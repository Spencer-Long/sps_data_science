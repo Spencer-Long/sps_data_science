{
  "nbformat": 4,
  "nbformat_minor": 0,
  "metadata": {
    "colab": {
      "name": "bootcamp_1.ipynb",
      "version": "0.3.2",
      "provenance": []
    },
    "kernelspec": {
      "name": "python3",
      "display_name": "Python 3"
    }
  },
  "cells": [
    {
      "metadata": {
        "id": "sEEAe1sF-8zs",
        "colab_type": "text"
      },
      "cell_type": "markdown",
      "source": [
        "Here is the misc. code discussed during the \"problem solving with Python\" bootcamp on October 6th."
      ]
    },
    {
      "metadata": {
        "id": "IYtzdVfm3uLj",
        "colab_type": "code",
        "colab": {
          "base_uri": "https://localhost:8080/",
          "height": 34
        },
        "outputId": "cd31d6cf-f4c8-4e0e-f90e-d59c9dce8c74"
      },
      "cell_type": "code",
      "source": [
        "print('hi')"
      ],
      "execution_count": 1,
      "outputs": [
        {
          "output_type": "stream",
          "text": [
            "hi\n"
          ],
          "name": "stdout"
        }
      ]
    },
    {
      "metadata": {
        "id": "AjaVlMJ654a9",
        "colab_type": "code",
        "colab": {
          "base_uri": "https://localhost:8080/",
          "height": 34
        },
        "outputId": "269fa6fd-2c03-4028-81f9-8ed27e389120"
      },
      "cell_type": "code",
      "source": [
        "print('cat','because cat')"
      ],
      "execution_count": 2,
      "outputs": [
        {
          "output_type": "stream",
          "text": [
            "cat because cat\n"
          ],
          "name": "stdout"
        }
      ]
    },
    {
      "metadata": {
        "id": "d9vbeCin6Tdv",
        "colab_type": "code",
        "colab": {
          "base_uri": "https://localhost:8080/",
          "height": 228
        },
        "outputId": "90a6c633-4e0b-477b-a888-2741c91f214b"
      },
      "cell_type": "code",
      "source": [
        "help(print)"
      ],
      "execution_count": 3,
      "outputs": [
        {
          "output_type": "stream",
          "text": [
            "Help on built-in function print in module builtins:\n",
            "\n",
            "print(...)\n",
            "    print(value, ..., sep=' ', end='\\n', file=sys.stdout, flush=False)\n",
            "    \n",
            "    Prints the values to a stream, or to sys.stdout by default.\n",
            "    Optional keyword arguments:\n",
            "    file:  a file-like object (stream); defaults to the current sys.stdout.\n",
            "    sep:   string inserted between values, default a space.\n",
            "    end:   string appended after the last value, default a newline.\n",
            "    flush: whether to forcibly flush the stream.\n",
            "\n"
          ],
          "name": "stdout"
        }
      ]
    },
    {
      "metadata": {
        "id": "7FRGpjxp6ZBA",
        "colab_type": "code",
        "colab": {
          "base_uri": "https://localhost:8080/",
          "height": 167
        },
        "outputId": "ed8436c3-dfcf-4dc5-ae1a-1c147cce8053"
      },
      "cell_type": "code",
      "source": [
        "Print('cat')"
      ],
      "execution_count": 4,
      "outputs": [
        {
          "output_type": "error",
          "ename": "NameError",
          "evalue": "ignored",
          "traceback": [
            "\u001b[0;31m---------------------------------------------------------------------------\u001b[0m",
            "\u001b[0;31mNameError\u001b[0m                                 Traceback (most recent call last)",
            "\u001b[0;32m<ipython-input-4-739cd735dc8c>\u001b[0m in \u001b[0;36m<module>\u001b[0;34m()\u001b[0m\n\u001b[0;32m----> 1\u001b[0;31m \u001b[0mPrint\u001b[0m\u001b[0;34m(\u001b[0m\u001b[0;34m'cat'\u001b[0m\u001b[0;34m)\u001b[0m\u001b[0;34m\u001b[0m\u001b[0m\n\u001b[0m",
            "\u001b[0;31mNameError\u001b[0m: name 'Print' is not defined"
          ]
        }
      ]
    },
    {
      "metadata": {
        "id": "D4q82CWv6s4t",
        "colab_type": "code",
        "colab": {}
      },
      "cell_type": "code",
      "source": [
        "f_5 = 5"
      ],
      "execution_count": 0,
      "outputs": []
    },
    {
      "metadata": {
        "id": "gk0Oihty7L_Q",
        "colab_type": "code",
        "colab": {}
      },
      "cell_type": "code",
      "source": [
        "c = 'cat'"
      ],
      "execution_count": 0,
      "outputs": []
    },
    {
      "metadata": {
        "id": "BeOJQpvt7Q2Q",
        "colab_type": "code",
        "colab": {
          "base_uri": "https://localhost:8080/",
          "height": 35
        },
        "outputId": "d0acd97e-0505-4b57-81e0-d98f296aac32"
      },
      "cell_type": "code",
      "source": [
        "print(c)"
      ],
      "execution_count": 8,
      "outputs": [
        {
          "output_type": "stream",
          "text": [
            "cat\n"
          ],
          "name": "stdout"
        }
      ]
    },
    {
      "metadata": {
        "id": "aV0VF2rz7R4f",
        "colab_type": "code",
        "colab": {}
      },
      "cell_type": "code",
      "source": [
        "print_bk = print"
      ],
      "execution_count": 0,
      "outputs": []
    },
    {
      "metadata": {
        "id": "MlQXcdpS7gue",
        "colab_type": "code",
        "colab": {}
      },
      "cell_type": "code",
      "source": [
        "print = 0"
      ],
      "execution_count": 0,
      "outputs": []
    },
    {
      "metadata": {
        "id": "VO5-EugK7hvO",
        "colab_type": "code",
        "colab": {
          "base_uri": "https://localhost:8080/",
          "height": 167
        },
        "outputId": "8941a42e-dcbe-4d71-9c33-1637b0a1d64d"
      },
      "cell_type": "code",
      "source": [
        "print('hi')"
      ],
      "execution_count": 11,
      "outputs": [
        {
          "output_type": "error",
          "ename": "TypeError",
          "evalue": "ignored",
          "traceback": [
            "\u001b[0;31m---------------------------------------------------------------------------\u001b[0m",
            "\u001b[0;31mTypeError\u001b[0m                                 Traceback (most recent call last)",
            "\u001b[0;32m<ipython-input-11-c977a53aa68e>\u001b[0m in \u001b[0;36m<module>\u001b[0;34m()\u001b[0m\n\u001b[0;32m----> 1\u001b[0;31m \u001b[0mprint\u001b[0m\u001b[0;34m(\u001b[0m\u001b[0;34m'hi'\u001b[0m\u001b[0;34m)\u001b[0m\u001b[0;34m\u001b[0m\u001b[0m\n\u001b[0m",
            "\u001b[0;31mTypeError\u001b[0m: 'int' object is not callable"
          ]
        }
      ]
    },
    {
      "metadata": {
        "id": "ey08jJUB7jI_",
        "colab_type": "code",
        "colab": {
          "base_uri": "https://localhost:8080/",
          "height": 132
        },
        "outputId": "45a51269-24be-47a4-d1a2-73294707c1b4"
      },
      "cell_type": "code",
      "source": [
        "True = 5"
      ],
      "execution_count": 12,
      "outputs": [
        {
          "output_type": "error",
          "ename": "SyntaxError",
          "evalue": "ignored",
          "traceback": [
            "\u001b[0;36m  File \u001b[0;32m\"<ipython-input-12-cee96fa4ba6e>\"\u001b[0;36m, line \u001b[0;32m1\u001b[0m\n\u001b[0;31m    True = 5\u001b[0m\n\u001b[0m            ^\u001b[0m\n\u001b[0;31mSyntaxError\u001b[0m\u001b[0;31m:\u001b[0m can't assign to keyword\n"
          ]
        }
      ]
    },
    {
      "metadata": {
        "id": "uk-o1zW37p1N",
        "colab_type": "code",
        "colab": {
          "base_uri": "https://localhost:8080/",
          "height": 35
        },
        "outputId": "b4d92040-358b-40ac-e8da-8008fe244522"
      },
      "cell_type": "code",
      "source": [
        "print = print_bk\n",
        "print('test')"
      ],
      "execution_count": 13,
      "outputs": [
        {
          "output_type": "stream",
          "text": [
            "test\n"
          ],
          "name": "stdout"
        }
      ]
    },
    {
      "metadata": {
        "id": "8NsnsMx37ygl",
        "colab_type": "code",
        "colab": {}
      },
      "cell_type": "code",
      "source": [
        "myStr = 'test'\n",
        "myInt = 5\n",
        "myFloat = 3.1415\n",
        "myBoolean = True"
      ],
      "execution_count": 0,
      "outputs": []
    },
    {
      "metadata": {
        "id": "Vq4GmFhE8SV3",
        "colab_type": "code",
        "colab": {
          "base_uri": "https://localhost:8080/",
          "height": 87
        },
        "outputId": "e762dba4-5ae2-461e-ec8d-e4ef6bbc758f"
      },
      "cell_type": "code",
      "source": [
        "print(type(myStr))\n",
        "print(type(myInt))\n",
        "print(type(myFloat))\n",
        "print(type(myBoolean))"
      ],
      "execution_count": 16,
      "outputs": [
        {
          "output_type": "stream",
          "text": [
            "<class 'str'>\n",
            "<class 'int'>\n",
            "<class 'float'>\n",
            "<class 'bool'>\n"
          ],
          "name": "stdout"
        }
      ]
    },
    {
      "metadata": {
        "id": "_DLGdSih8U6w",
        "colab_type": "code",
        "colab": {
          "base_uri": "https://localhost:8080/",
          "height": 35
        },
        "outputId": "5538cd3a-d321-4a11-c534-69492cf435c2"
      },
      "cell_type": "code",
      "source": [
        "str(myInt)"
      ],
      "execution_count": 18,
      "outputs": [
        {
          "output_type": "execute_result",
          "data": {
            "text/plain": [
              "'5'"
            ]
          },
          "metadata": {
            "tags": []
          },
          "execution_count": 18
        }
      ]
    },
    {
      "metadata": {
        "id": "GXyL1fqG8qC9",
        "colab_type": "code",
        "colab": {}
      },
      "cell_type": "code",
      "source": [
        ""
      ],
      "execution_count": 0,
      "outputs": []
    },
    {
      "metadata": {
        "id": "tiZ7F7DV8-Or",
        "colab_type": "text"
      },
      "cell_type": "markdown",
      "source": [
        "1. Does int() correctly round float\n",
        "1. What are the numerical equivalents of booleans\n",
        "3. What strings can you successfully cast into ints, floats, booleans"
      ]
    },
    {
      "metadata": {
        "id": "Tfm6RQyh9HEY",
        "colab_type": "code",
        "colab": {
          "base_uri": "https://localhost:8080/",
          "height": 35
        },
        "outputId": "99bc34bd-6752-45c0-e85f-b66054ec8ebc"
      },
      "cell_type": "code",
      "source": [
        "int(5.9)"
      ],
      "execution_count": 19,
      "outputs": [
        {
          "output_type": "execute_result",
          "data": {
            "text/plain": [
              "5"
            ]
          },
          "metadata": {
            "tags": []
          },
          "execution_count": 19
        }
      ]
    },
    {
      "metadata": {
        "id": "3cijk25e9mlO",
        "colab_type": "code",
        "colab": {
          "base_uri": "https://localhost:8080/",
          "height": 35
        },
        "outputId": "20127a83-82bd-4868-ef0a-778e89328efb"
      },
      "cell_type": "code",
      "source": [
        "myNum = 5.9\n",
        "int(myNum + 0.5)"
      ],
      "execution_count": 20,
      "outputs": [
        {
          "output_type": "execute_result",
          "data": {
            "text/plain": [
              "6"
            ]
          },
          "metadata": {
            "tags": []
          },
          "execution_count": 20
        }
      ]
    },
    {
      "metadata": {
        "id": "xi2Nl_z6-Bga",
        "colab_type": "code",
        "colab": {
          "base_uri": "https://localhost:8080/",
          "height": 105
        },
        "outputId": "798e8282-13ff-49db-9e7e-301d4751deb2"
      },
      "cell_type": "code",
      "source": [
        "a = 2\n",
        "b = 4.5\n",
        "c = 'apple'\n",
        "\n",
        "print(a+b)\n",
        "print(a-b)\n",
        "print(a*b)\n",
        "print(a/b)\n",
        "print(c+str(a))"
      ],
      "execution_count": 21,
      "outputs": [
        {
          "output_type": "stream",
          "text": [
            "6.5\n",
            "-2.5\n",
            "9.0\n",
            "0.4444444444444444\n",
            "apple2\n"
          ],
          "name": "stdout"
        }
      ]
    },
    {
      "metadata": {
        "id": "Mql7etaH-Wgo",
        "colab_type": "code",
        "colab": {
          "base_uri": "https://localhost:8080/",
          "height": 52
        },
        "outputId": "37d75021-39d0-46ae-b21d-b2ec64e1fa64"
      },
      "cell_type": "code",
      "source": [
        "print(abs(a-b))\n",
        "print(round(b))"
      ],
      "execution_count": 22,
      "outputs": [
        {
          "output_type": "stream",
          "text": [
            "2.5\n",
            "4\n"
          ],
          "name": "stdout"
        }
      ]
    },
    {
      "metadata": {
        "id": "PunHpohd-s4l",
        "colab_type": "text"
      },
      "cell_type": "markdown",
      "source": [
        "What do the following operators do?\n",
        "1. **\n",
        "1. //\n",
        "1. %\n",
        "\n",
        "What combinations of data types work or don't work?\n",
        "1. e.g. subtracting strings\n",
        "\n",
        "Did you find anything you didn't expect?"
      ]
    },
    {
      "metadata": {
        "id": "wEnGsSaCBA4f",
        "colab_type": "code",
        "colab": {
          "base_uri": "https://localhost:8080/",
          "height": 35
        },
        "outputId": "8519762a-b327-4c6f-df96-0bd36ea8f323"
      },
      "cell_type": "code",
      "source": [
        "3**2"
      ],
      "execution_count": 23,
      "outputs": [
        {
          "output_type": "execute_result",
          "data": {
            "text/plain": [
              "9"
            ]
          },
          "metadata": {
            "tags": []
          },
          "execution_count": 23
        }
      ]
    },
    {
      "metadata": {
        "id": "nfuDnvsrBClq",
        "colab_type": "code",
        "colab": {
          "base_uri": "https://localhost:8080/",
          "height": 35
        },
        "outputId": "9f84e4dc-6215-437c-a1a7-082f8c1b810d"
      },
      "cell_type": "code",
      "source": [
        "5//2"
      ],
      "execution_count": 28,
      "outputs": [
        {
          "output_type": "execute_result",
          "data": {
            "text/plain": [
              "2"
            ]
          },
          "metadata": {
            "tags": []
          },
          "execution_count": 28
        }
      ]
    },
    {
      "metadata": {
        "id": "oqLNm8bPBJDa",
        "colab_type": "code",
        "colab": {
          "base_uri": "https://localhost:8080/",
          "height": 35
        },
        "outputId": "bab80e57-2fb5-477c-e03a-a9e05d070dec"
      },
      "cell_type": "code",
      "source": [
        "5%2"
      ],
      "execution_count": 29,
      "outputs": [
        {
          "output_type": "execute_result",
          "data": {
            "text/plain": [
              "1"
            ]
          },
          "metadata": {
            "tags": []
          },
          "execution_count": 29
        }
      ]
    },
    {
      "metadata": {
        "id": "Uw97sBZ3BUJa",
        "colab_type": "code",
        "colab": {
          "base_uri": "https://localhost:8080/",
          "height": 35
        },
        "outputId": "4f0ff36b-0d22-4a45-93c3-9a2cd9eb5924"
      },
      "cell_type": "code",
      "source": [
        "True + False"
      ],
      "execution_count": 30,
      "outputs": [
        {
          "output_type": "execute_result",
          "data": {
            "text/plain": [
              "1"
            ]
          },
          "metadata": {
            "tags": []
          },
          "execution_count": 30
        }
      ]
    },
    {
      "metadata": {
        "id": "OPnIIdIDBepg",
        "colab_type": "code",
        "colab": {
          "base_uri": "https://localhost:8080/",
          "height": 35
        },
        "outputId": "1fc41b7c-2c9f-43f7-d107-94bb063851b2"
      },
      "cell_type": "code",
      "source": [
        "True + True"
      ],
      "execution_count": 31,
      "outputs": [
        {
          "output_type": "execute_result",
          "data": {
            "text/plain": [
              "2"
            ]
          },
          "metadata": {
            "tags": []
          },
          "execution_count": 31
        }
      ]
    },
    {
      "metadata": {
        "id": "dxWw5N0HBf4m",
        "colab_type": "code",
        "colab": {
          "base_uri": "https://localhost:8080/",
          "height": 35
        },
        "outputId": "cf16468b-06bb-49af-b419-4b040d4dc119"
      },
      "cell_type": "code",
      "source": [
        "'apple'*2"
      ],
      "execution_count": 32,
      "outputs": [
        {
          "output_type": "execute_result",
          "data": {
            "text/plain": [
              "'appleapple'"
            ]
          },
          "metadata": {
            "tags": []
          },
          "execution_count": 32
        }
      ]
    },
    {
      "metadata": {
        "id": "esGKs-nlBkJn",
        "colab_type": "code",
        "colab": {
          "base_uri": "https://localhost:8080/",
          "height": 35
        },
        "outputId": "618deebd-fad3-48cf-b5bb-80585091cd3f"
      },
      "cell_type": "code",
      "source": [
        "'The product of {} and {} is {}'.format(a, b, a*b)"
      ],
      "execution_count": 33,
      "outputs": [
        {
          "output_type": "execute_result",
          "data": {
            "text/plain": [
              "'The product of 2 and 4.5 is 9.0'"
            ]
          },
          "metadata": {
            "tags": []
          },
          "execution_count": 33
        }
      ]
    },
    {
      "metadata": {
        "id": "8UnrV1nZCMAB",
        "colab_type": "code",
        "colab": {
          "base_uri": "https://localhost:8080/",
          "height": 35
        },
        "outputId": "60633153-ba32-4456-d1c1-5b30bb51488b"
      },
      "cell_type": "code",
      "source": [
        "'Pi is {:.2f}'.format(3.1415926535)"
      ],
      "execution_count": 34,
      "outputs": [
        {
          "output_type": "execute_result",
          "data": {
            "text/plain": [
              "'Pi is 3.14'"
            ]
          },
          "metadata": {
            "tags": []
          },
          "execution_count": 34
        }
      ]
    },
    {
      "metadata": {
        "id": "_j8QtpauCYUm",
        "colab_type": "code",
        "colab": {}
      },
      "cell_type": "code",
      "source": [
        "def make_sandwich(num):\n",
        "    return \"{} sandwich(es)\".format(num)"
      ],
      "execution_count": 0,
      "outputs": []
    },
    {
      "metadata": {
        "id": "kC8cUjIqCsSE",
        "colab_type": "code",
        "colab": {
          "base_uri": "https://localhost:8080/",
          "height": 35
        },
        "outputId": "422d2676-bd6c-412d-db9e-0484d5c71e6d"
      },
      "cell_type": "code",
      "source": [
        "result = make_sandwich(2)\n",
        "print(result)"
      ],
      "execution_count": 41,
      "outputs": [
        {
          "output_type": "stream",
          "text": [
            "2 sandwich(es)\n"
          ],
          "name": "stdout"
        }
      ]
    },
    {
      "metadata": {
        "id": "R_eTwjg4CzFk",
        "colab_type": "code",
        "colab": {}
      },
      "cell_type": "code",
      "source": [
        "def newton_force(mass, accel=9.8):\n",
        "    return mass*accel"
      ],
      "execution_count": 0,
      "outputs": []
    },
    {
      "metadata": {
        "id": "pQVorwEBDjPl",
        "colab_type": "code",
        "colab": {
          "base_uri": "https://localhost:8080/",
          "height": 35
        },
        "outputId": "c4a61d3c-e982-4cb2-88ed-b6a802bee4a2"
      },
      "cell_type": "code",
      "source": [
        "'{} kg has standard gravitational force of {} Newtons'.format(5, newton_force(5))"
      ],
      "execution_count": 45,
      "outputs": [
        {
          "output_type": "execute_result",
          "data": {
            "text/plain": [
              "'5 kg has standard gravitational force of 49.0 Newtons'"
            ]
          },
          "metadata": {
            "tags": []
          },
          "execution_count": 45
        }
      ]
    },
    {
      "metadata": {
        "id": "FrURk6TmD807",
        "colab_type": "text"
      },
      "cell_type": "markdown",
      "source": [
        "Define a function that calculates the hypotenuse of a right triangle given the lengths of the other two sides. Use string formatting to say, \"a triangle of side {} and side {}  has a hypot. of {}.\""
      ]
    },
    {
      "metadata": {
        "id": "ooT8sdAtDlwO",
        "colab_type": "code",
        "colab": {}
      },
      "cell_type": "code",
      "source": [
        "def hypot(a, b):\n",
        "    c = (a**2 + b**2)**(1/2)\n",
        "    return c"
      ],
      "execution_count": 0,
      "outputs": []
    },
    {
      "metadata": {
        "id": "f4itGyN1IeFP",
        "colab_type": "code",
        "colab": {
          "base_uri": "https://localhost:8080/",
          "height": 35
        },
        "outputId": "a953d4b1-bea5-4c69-993c-1a58a19c9b55"
      },
      "cell_type": "code",
      "source": [
        "a = 1\n",
        "b = 1\n",
        "r = hypot(a,b)\n",
        "print('a triangle of side {} and side {} has a hypot of {:.2f}'.format(a,b,r))"
      ],
      "execution_count": 52,
      "outputs": [
        {
          "output_type": "stream",
          "text": [
            "a triangle of side 1 and side 1 has a hypot of 1.41\n"
          ],
          "name": "stdout"
        }
      ]
    },
    {
      "metadata": {
        "id": "amswB-vpIgEG",
        "colab_type": "code",
        "colab": {
          "base_uri": "https://localhost:8080/",
          "height": 35
        },
        "outputId": "f6f85f55-ffac-400e-a2fc-1be784cee426"
      },
      "cell_type": "code",
      "source": [
        "5>3"
      ],
      "execution_count": 53,
      "outputs": [
        {
          "output_type": "execute_result",
          "data": {
            "text/plain": [
              "True"
            ]
          },
          "metadata": {
            "tags": []
          },
          "execution_count": 53
        }
      ]
    },
    {
      "metadata": {
        "id": "weuhE8iqJHIp",
        "colab_type": "code",
        "colab": {
          "base_uri": "https://localhost:8080/",
          "height": 35
        },
        "outputId": "68109c7e-f5ac-48e9-d684-84896e405b0a"
      },
      "cell_type": "code",
      "source": [
        "3>5"
      ],
      "execution_count": 54,
      "outputs": [
        {
          "output_type": "execute_result",
          "data": {
            "text/plain": [
              "False"
            ]
          },
          "metadata": {
            "tags": []
          },
          "execution_count": 54
        }
      ]
    },
    {
      "metadata": {
        "id": "Poc2ovnrJIBQ",
        "colab_type": "code",
        "colab": {
          "base_uri": "https://localhost:8080/",
          "height": 52
        },
        "outputId": "10e04e9c-22af-467d-c7d2-057cab0f5070"
      },
      "cell_type": "code",
      "source": [
        "print(3 == 3)\n",
        "print(1 <= 0)"
      ],
      "execution_count": 56,
      "outputs": [
        {
          "output_type": "stream",
          "text": [
            "True\n",
            "False\n"
          ],
          "name": "stdout"
        }
      ]
    },
    {
      "metadata": {
        "id": "xfzt-aDJJSqB",
        "colab_type": "code",
        "colab": {
          "base_uri": "https://localhost:8080/",
          "height": 35
        },
        "outputId": "7d5159ae-11f8-444d-e1b3-d4fa52b504eb"
      },
      "cell_type": "code",
      "source": [
        "print(5/3 == 1 + 2/3)"
      ],
      "execution_count": 57,
      "outputs": [
        {
          "output_type": "stream",
          "text": [
            "False\n"
          ],
          "name": "stdout"
        }
      ]
    },
    {
      "metadata": {
        "id": "pkEkQ9SQJfRv",
        "colab_type": "code",
        "colab": {
          "base_uri": "https://localhost:8080/",
          "height": 52
        },
        "outputId": "c506f0c7-30c4-47e7-a1b5-60802c30999c"
      },
      "cell_type": "code",
      "source": [
        "print(5/3)\n",
        "print(1+2/3)"
      ],
      "execution_count": 58,
      "outputs": [
        {
          "output_type": "stream",
          "text": [
            "1.6666666666666667\n",
            "1.6666666666666665\n"
          ],
          "name": "stdout"
        }
      ]
    },
    {
      "metadata": {
        "id": "ICRPuTiRJj11",
        "colab_type": "code",
        "colab": {
          "base_uri": "https://localhost:8080/",
          "height": 70
        },
        "outputId": "fd661296-8a28-4e1c-fe6c-b24123fdba1d"
      },
      "cell_type": "code",
      "source": [
        "print('apple' == 'orange')\n",
        "print(len('apple') == 5)\n",
        "print('b' in 'banana')"
      ],
      "execution_count": 59,
      "outputs": [
        {
          "output_type": "stream",
          "text": [
            "False\n",
            "True\n",
            "True\n"
          ],
          "name": "stdout"
        }
      ]
    },
    {
      "metadata": {
        "id": "-_krBEoUJ_2a",
        "colab_type": "code",
        "colab": {}
      },
      "cell_type": "code",
      "source": [
        "cond = False\n",
        "if cond:\n",
        "    print('cond is True')"
      ],
      "execution_count": 0,
      "outputs": []
    },
    {
      "metadata": {
        "id": "GCwOyKP4KPER",
        "colab_type": "code",
        "colab": {}
      },
      "cell_type": "code",
      "source": [
        "def do_it(a, b):\n",
        "    if a == b:\n",
        "        print('Yes')\n",
        "    elif b > a:\n",
        "        print('No')\n",
        "    else:\n",
        "        print('I give up')"
      ],
      "execution_count": 0,
      "outputs": []
    },
    {
      "metadata": {
        "id": "_NB7ABssKmf3",
        "colab_type": "code",
        "colab": {
          "base_uri": "https://localhost:8080/",
          "height": 70
        },
        "outputId": "946bb805-0797-4633-9562-f5d8e4617966"
      },
      "cell_type": "code",
      "source": [
        "do_it(1,1)\n",
        "do_it(1,2)\n",
        "do_it(2,1)"
      ],
      "execution_count": 63,
      "outputs": [
        {
          "output_type": "stream",
          "text": [
            "Yes\n",
            "No\n",
            "I give up\n"
          ],
          "name": "stdout"
        }
      ]
    },
    {
      "metadata": {
        "id": "siRLONlHKq38",
        "colab_type": "code",
        "colab": {
          "base_uri": "https://localhost:8080/",
          "height": 87
        },
        "outputId": "501462fd-7d76-4757-e836-8e90633e8c10"
      },
      "cell_type": "code",
      "source": [
        "a = 5\n",
        "b = 1\n",
        "\n",
        "while a > b:\n",
        "    print('{} is bigger than {}'.format(a, b))\n",
        "    b = b + 1 # or b+=1"
      ],
      "execution_count": 65,
      "outputs": [
        {
          "output_type": "stream",
          "text": [
            "5 is bigger than 1\n",
            "5 is bigger than 2\n",
            "5 is bigger than 3\n",
            "5 is bigger than 4\n"
          ],
          "name": "stdout"
        }
      ]
    },
    {
      "metadata": {
        "id": "NFB6-8FiLuQw",
        "colab_type": "text"
      },
      "cell_type": "markdown",
      "source": [
        "* Define a function that calculates a factorial\n",
        "    - i.e. 3! = 3 \\* 2 \\* 1\n",
        "* Define a function that checks if two positions are close enough (i.e. within some distance {})\n",
        "    1. 1 dimensional positions\n",
        "    1. 2 dimensional positions"
      ]
    },
    {
      "metadata": {
        "id": "30BYxqknMaXf",
        "colab_type": "code",
        "colab": {}
      },
      "cell_type": "code",
      "source": [
        "def factorial(n):\n",
        "    f = 1\n",
        "    while n > 1:\n",
        "        f = f*n\n",
        "        n = n-1\n",
        "    return(f)"
      ],
      "execution_count": 0,
      "outputs": []
    },
    {
      "metadata": {
        "id": "nn4i7JrdYXno",
        "colab_type": "code",
        "colab": {}
      },
      "cell_type": "code",
      "source": [
        "def close_enough(a,b,d):\n",
        "    if abs(a-b) <= d:\n",
        "        print('yes')\n",
        "    else:\n",
        "        print('no')"
      ],
      "execution_count": 0,
      "outputs": []
    },
    {
      "metadata": {
        "id": "IIoZmF6aZ39T",
        "colab_type": "code",
        "colab": {
          "base_uri": "https://localhost:8080/",
          "height": 35
        },
        "outputId": "11639ff8-1912-4d26-eda4-5a24279657ee"
      },
      "cell_type": "code",
      "source": [
        "close_enough(1,5,3)"
      ],
      "execution_count": 84,
      "outputs": [
        {
          "output_type": "stream",
          "text": [
            "no\n"
          ],
          "name": "stdout"
        }
      ]
    },
    {
      "metadata": {
        "id": "rao99tZdZ53D",
        "colab_type": "code",
        "colab": {}
      },
      "cell_type": "code",
      "source": [
        "def close_enough_2d(x1, y1, x2, y2, d):\n",
        "    dx = abs(x1-x2)\n",
        "    dy = abs(y1-y2)\n",
        "    if hypot(dx,dy) <= d:\n",
        "        print('yes')\n",
        "    else:\n",
        "        print('no')"
      ],
      "execution_count": 0,
      "outputs": []
    },
    {
      "metadata": {
        "id": "NNnKwyf1a8-K",
        "colab_type": "code",
        "colab": {
          "base_uri": "https://localhost:8080/",
          "height": 35
        },
        "outputId": "1b01d0b3-4d6f-454b-c8e3-2e51a732eb9d"
      },
      "cell_type": "code",
      "source": [
        "close_enough_2d(1,1,6,6,5)"
      ],
      "execution_count": 90,
      "outputs": [
        {
          "output_type": "stream",
          "text": [
            "no\n"
          ],
          "name": "stdout"
        }
      ]
    },
    {
      "metadata": {
        "id": "RQ0VOskHbD3K",
        "colab_type": "code",
        "colab": {}
      },
      "cell_type": "code",
      "source": [
        "myList = ['apple', 'banana', 'shark', 'castle']"
      ],
      "execution_count": 0,
      "outputs": []
    },
    {
      "metadata": {
        "id": "I3bDQXuYbdmO",
        "colab_type": "code",
        "colab": {
          "base_uri": "https://localhost:8080/",
          "height": 35
        },
        "outputId": "0229d29b-06f2-47b8-c391-5a7e49c7dd6b"
      },
      "cell_type": "code",
      "source": [
        "myList[3]"
      ],
      "execution_count": 93,
      "outputs": [
        {
          "output_type": "execute_result",
          "data": {
            "text/plain": [
              "'castle'"
            ]
          },
          "metadata": {
            "tags": []
          },
          "execution_count": 93
        }
      ]
    },
    {
      "metadata": {
        "id": "PUnlBTNUblo-",
        "colab_type": "code",
        "colab": {}
      },
      "cell_type": "code",
      "source": [
        "myList.append('ballistic missile')"
      ],
      "execution_count": 0,
      "outputs": []
    },
    {
      "metadata": {
        "id": "SrOPVoZnbt7k",
        "colab_type": "code",
        "colab": {
          "base_uri": "https://localhost:8080/",
          "height": 35
        },
        "outputId": "58a85324-d2c4-4022-904d-9ca53556d224"
      },
      "cell_type": "code",
      "source": [
        "myList"
      ],
      "execution_count": 95,
      "outputs": [
        {
          "output_type": "execute_result",
          "data": {
            "text/plain": [
              "['apple', 'banana', 'shark', 'castle', 'ballistic missile']"
            ]
          },
          "metadata": {
            "tags": []
          },
          "execution_count": 95
        }
      ]
    },
    {
      "metadata": {
        "id": "Bpb-ZgbGbu7H",
        "colab_type": "code",
        "colab": {}
      },
      "cell_type": "code",
      "source": [
        "myList.remove('banana')"
      ],
      "execution_count": 0,
      "outputs": []
    },
    {
      "metadata": {
        "id": "A97RksKvbymd",
        "colab_type": "code",
        "colab": {
          "base_uri": "https://localhost:8080/",
          "height": 35
        },
        "outputId": "5669f371-f78e-462a-9d80-6316b080131b"
      },
      "cell_type": "code",
      "source": [
        "myList"
      ],
      "execution_count": 97,
      "outputs": [
        {
          "output_type": "execute_result",
          "data": {
            "text/plain": [
              "['apple', 'shark', 'castle', 'ballistic missile']"
            ]
          },
          "metadata": {
            "tags": []
          },
          "execution_count": 97
        }
      ]
    },
    {
      "metadata": {
        "id": "g9Su19SvbzK0",
        "colab_type": "code",
        "colab": {
          "base_uri": "https://localhost:8080/",
          "height": 35
        },
        "outputId": "c0854cc2-07d5-4736-a1b2-5aa9e8a571d1"
      },
      "cell_type": "code",
      "source": [
        "myList[3]"
      ],
      "execution_count": 98,
      "outputs": [
        {
          "output_type": "execute_result",
          "data": {
            "text/plain": [
              "'ballistic missile'"
            ]
          },
          "metadata": {
            "tags": []
          },
          "execution_count": 98
        }
      ]
    },
    {
      "metadata": {
        "id": "k9jk_JhUb1fc",
        "colab_type": "code",
        "colab": {}
      },
      "cell_type": "code",
      "source": [
        "myList.extend([3,4,5])"
      ],
      "execution_count": 0,
      "outputs": []
    },
    {
      "metadata": {
        "id": "_M_w73dEb-my",
        "colab_type": "code",
        "colab": {
          "base_uri": "https://localhost:8080/",
          "height": 35
        },
        "outputId": "24680841-1f27-42c6-c945-8fc2e705f372"
      },
      "cell_type": "code",
      "source": [
        "myList"
      ],
      "execution_count": 100,
      "outputs": [
        {
          "output_type": "execute_result",
          "data": {
            "text/plain": [
              "['apple', 'shark', 'castle', 'ballistic missile', 3, 4, 5]"
            ]
          },
          "metadata": {
            "tags": []
          },
          "execution_count": 100
        }
      ]
    },
    {
      "metadata": {
        "id": "aMdH8huXb_L0",
        "colab_type": "code",
        "colab": {}
      },
      "cell_type": "code",
      "source": [
        "myList2d = [[1,3,5,7], [2,4,6,8]]"
      ],
      "execution_count": 0,
      "outputs": []
    },
    {
      "metadata": {
        "id": "SLsokgMOcLch",
        "colab_type": "code",
        "colab": {
          "base_uri": "https://localhost:8080/",
          "height": 35
        },
        "outputId": "410f879f-c3b7-4034-a8af-2da976ea0d03"
      },
      "cell_type": "code",
      "source": [
        "myList2d"
      ],
      "execution_count": 102,
      "outputs": [
        {
          "output_type": "execute_result",
          "data": {
            "text/plain": [
              "[[1, 3, 5, 7], [2, 4, 6, 8]]"
            ]
          },
          "metadata": {
            "tags": []
          },
          "execution_count": 102
        }
      ]
    },
    {
      "metadata": {
        "id": "NtCwMm7-cMQh",
        "colab_type": "code",
        "colab": {
          "base_uri": "https://localhost:8080/",
          "height": 35
        },
        "outputId": "ef881bcd-0185-4a62-d814-de82f0c52220"
      },
      "cell_type": "code",
      "source": [
        "myList2d[0][1]"
      ],
      "execution_count": 103,
      "outputs": [
        {
          "output_type": "execute_result",
          "data": {
            "text/plain": [
              "3"
            ]
          },
          "metadata": {
            "tags": []
          },
          "execution_count": 103
        }
      ]
    },
    {
      "metadata": {
        "id": "kL3ltggpcTwI",
        "colab_type": "code",
        "colab": {}
      },
      "cell_type": "code",
      "source": [
        "myDict = {'a': 'shark', 'b': 'laser'}"
      ],
      "execution_count": 0,
      "outputs": []
    },
    {
      "metadata": {
        "id": "fM2uTNtEcys3",
        "colab_type": "code",
        "colab": {
          "base_uri": "https://localhost:8080/",
          "height": 35
        },
        "outputId": "999f422a-37a9-4b7d-ec48-5ac577bf4bbc"
      },
      "cell_type": "code",
      "source": [
        "myDict['a']"
      ],
      "execution_count": 105,
      "outputs": [
        {
          "output_type": "execute_result",
          "data": {
            "text/plain": [
              "'shark'"
            ]
          },
          "metadata": {
            "tags": []
          },
          "execution_count": 105
        }
      ]
    },
    {
      "metadata": {
        "id": "6b-cD7lLczuL",
        "colab_type": "code",
        "colab": {
          "base_uri": "https://localhost:8080/",
          "height": 35
        },
        "outputId": "7d11ef2b-5bfc-477b-a092-625ea3dfbf24"
      },
      "cell_type": "code",
      "source": [
        "myDict.keys()"
      ],
      "execution_count": 106,
      "outputs": [
        {
          "output_type": "execute_result",
          "data": {
            "text/plain": [
              "dict_keys(['a', 'b'])"
            ]
          },
          "metadata": {
            "tags": []
          },
          "execution_count": 106
        }
      ]
    },
    {
      "metadata": {
        "id": "gjdjTJ3Ec3zs",
        "colab_type": "code",
        "colab": {}
      },
      "cell_type": "code",
      "source": [
        "myTuple = (4, 5, 6)"
      ],
      "execution_count": 0,
      "outputs": []
    },
    {
      "metadata": {
        "id": "4lt30QiOdBEx",
        "colab_type": "code",
        "colab": {}
      },
      "cell_type": "code",
      "source": [
        "myList[1] = 7"
      ],
      "execution_count": 0,
      "outputs": []
    },
    {
      "metadata": {
        "id": "kQBCkNCsdExR",
        "colab_type": "code",
        "colab": {
          "base_uri": "https://localhost:8080/",
          "height": 35
        },
        "outputId": "87196944-3ae7-400c-a90f-ca0956a9a55c"
      },
      "cell_type": "code",
      "source": [
        "myList"
      ],
      "execution_count": 110,
      "outputs": [
        {
          "output_type": "execute_result",
          "data": {
            "text/plain": [
              "['apple', 7, 'castle', 'ballistic missile', 3, 4, 5]"
            ]
          },
          "metadata": {
            "tags": []
          },
          "execution_count": 110
        }
      ]
    },
    {
      "metadata": {
        "id": "gnUmEul6dJti",
        "colab_type": "code",
        "colab": {
          "base_uri": "https://localhost:8080/",
          "height": 34
        },
        "outputId": "d1a95532-0dd7-4439-e373-0c62aab5794a"
      },
      "cell_type": "code",
      "source": [
        "myTuple"
      ],
      "execution_count": 111,
      "outputs": [
        {
          "output_type": "execute_result",
          "data": {
            "text/plain": [
              "(4, 5, 6)"
            ]
          },
          "metadata": {
            "tags": []
          },
          "execution_count": 111
        }
      ]
    },
    {
      "metadata": {
        "id": "ed1Sf7dSdKfq",
        "colab_type": "code",
        "colab": {
          "base_uri": "https://localhost:8080/",
          "height": 137
        },
        "outputId": "d43ab5b9-181d-4ef3-c8b7-dae716450368"
      },
      "cell_type": "code",
      "source": [
        "for item in myList:\n",
        "    print(item)"
      ],
      "execution_count": 116,
      "outputs": [
        {
          "output_type": "stream",
          "text": [
            "apple\n",
            "7\n",
            "castle\n",
            "ballistic missile\n",
            "3\n",
            "4\n",
            "5\n"
          ],
          "name": "stdout"
        }
      ]
    },
    {
      "metadata": {
        "id": "OOtgB1zJdYCo",
        "colab_type": "code",
        "colab": {
          "base_uri": "https://localhost:8080/",
          "height": 137
        },
        "outputId": "c550f142-9598-465a-a2e4-60636c368fd0"
      },
      "cell_type": "code",
      "source": [
        "for i in range(len(myList)):\n",
        "    print(myList[i])"
      ],
      "execution_count": 115,
      "outputs": [
        {
          "output_type": "stream",
          "text": [
            "apple\n",
            "7\n",
            "castle\n",
            "ballistic missile\n",
            "3\n",
            "4\n",
            "5\n"
          ],
          "name": "stdout"
        }
      ]
    },
    {
      "metadata": {
        "id": "sDOI6YnQdtD9",
        "colab_type": "code",
        "colab": {}
      },
      "cell_type": "code",
      "source": [
        "def close_enough(a, b, d):\n",
        "    sq_sum = 0\n",
        "    for i in range(len(a)):\n",
        "        sq_sum = sq_sum + (a[i] + b[i])**2\n",
        "    return sq_sum**0.5 < d"
      ],
      "execution_count": 0,
      "outputs": []
    },
    {
      "metadata": {
        "id": "Cmg5S-g_ecZz",
        "colab_type": "code",
        "colab": {
          "base_uri": "https://localhost:8080/",
          "height": 34
        },
        "outputId": "70ded89b-6576-48d9-85ac-c7c219c82f26"
      },
      "cell_type": "code",
      "source": [
        "a = (1,2,3,5,6)\n",
        "b = (2,3,4,7,8)\n",
        "close_enough(a,b,3)"
      ],
      "execution_count": 119,
      "outputs": [
        {
          "output_type": "execute_result",
          "data": {
            "text/plain": [
              "False"
            ]
          },
          "metadata": {
            "tags": []
          },
          "execution_count": 119
        }
      ]
    },
    {
      "metadata": {
        "id": "5w3S8ahUetxw",
        "colab_type": "text"
      },
      "cell_type": "markdown",
      "source": [
        "Write a for loop that will draw the following pattern (out to the 50th line with 50 asterisks). </br>\n",
        "\\*</br>\n",
        "\\*\\*</br>\n",
        "\\*\\*\\*</br>\n"
      ]
    },
    {
      "metadata": {
        "id": "HKV4a36sfHKm",
        "colab_type": "text"
      },
      "cell_type": "markdown",
      "source": [
        "Write the factorial function with a for loop"
      ]
    },
    {
      "metadata": {
        "id": "4ToDWpS6fUI9",
        "colab_type": "text"
      },
      "cell_type": "markdown",
      "source": [
        "Write a function that returns the diagonal of a square matrix"
      ]
    },
    {
      "metadata": {
        "id": "t80NpY48f9Wa",
        "colab_type": "text"
      },
      "cell_type": "markdown",
      "source": [
        "More exercises:\n",
        "1. Write a function that will calculate the *n*-th value of the Fibonacci sequence: 1 1 2 3 5 8...\n",
        "\n",
        "2. Write a function that returns a list containing the *n*-th row of Pascal's triangle</br>\n",
        "[1]</br>\n",
        "[1, 1]</br>\n",
        "[1, 2, 1]</br>\n",
        "[1, 3, 3, 1]</br>"
      ]
    },
    {
      "metadata": {
        "id": "wgJaAkngeiDW",
        "colab_type": "code",
        "colab": {
          "base_uri": "https://localhost:8080/",
          "height": 874
        },
        "outputId": "7737d71c-9c07-41aa-ed8f-13498806bc66"
      },
      "cell_type": "code",
      "source": [
        "for i in range(1,51):\n",
        "    print('*' * i)"
      ],
      "execution_count": 131,
      "outputs": [
        {
          "output_type": "stream",
          "text": [
            "*\n",
            "**\n",
            "***\n",
            "****\n",
            "*****\n",
            "******\n",
            "*******\n",
            "********\n",
            "*********\n",
            "**********\n",
            "***********\n",
            "************\n",
            "*************\n",
            "**************\n",
            "***************\n",
            "****************\n",
            "*****************\n",
            "******************\n",
            "*******************\n",
            "********************\n",
            "*********************\n",
            "**********************\n",
            "***********************\n",
            "************************\n",
            "*************************\n",
            "**************************\n",
            "***************************\n",
            "****************************\n",
            "*****************************\n",
            "******************************\n",
            "*******************************\n",
            "********************************\n",
            "*********************************\n",
            "**********************************\n",
            "***********************************\n",
            "************************************\n",
            "*************************************\n",
            "**************************************\n",
            "***************************************\n",
            "****************************************\n",
            "*****************************************\n",
            "******************************************\n",
            "*******************************************\n",
            "********************************************\n",
            "*********************************************\n",
            "**********************************************\n",
            "***********************************************\n",
            "************************************************\n",
            "*************************************************\n",
            "**************************************************\n"
          ],
          "name": "stdout"
        }
      ]
    },
    {
      "metadata": {
        "id": "WWyiumqImrOW",
        "colab_type": "code",
        "colab": {}
      },
      "cell_type": "code",
      "source": [
        "def factorial(n):\n",
        "    f = 1\n",
        "    for i in range(1,n+1):\n",
        "        f = f * i\n",
        "    return f"
      ],
      "execution_count": 0,
      "outputs": []
    },
    {
      "metadata": {
        "id": "9pZHNgp3m4Fb",
        "colab_type": "code",
        "colab": {
          "base_uri": "https://localhost:8080/",
          "height": 34
        },
        "outputId": "f3c89a90-7a33-42a1-d44b-7f2a2f6babcf"
      },
      "cell_type": "code",
      "source": [
        "factorial(5)"
      ],
      "execution_count": 133,
      "outputs": [
        {
          "output_type": "execute_result",
          "data": {
            "text/plain": [
              "120"
            ]
          },
          "metadata": {
            "tags": []
          },
          "execution_count": 133
        }
      ]
    },
    {
      "metadata": {
        "id": "Yb_nI76pm66b",
        "colab_type": "code",
        "colab": {}
      },
      "cell_type": "code",
      "source": [
        "def diag(matrix):\n",
        "    d = []\n",
        "    for i in range(len(matrix)):\n",
        "        d.append(matrix[i][i])\n",
        "    return d"
      ],
      "execution_count": 0,
      "outputs": []
    },
    {
      "metadata": {
        "id": "0T7WvXD1nKx5",
        "colab_type": "code",
        "colab": {
          "base_uri": "https://localhost:8080/",
          "height": 34
        },
        "outputId": "8bc55f9d-7811-446a-87d4-217ab4ce2692"
      },
      "cell_type": "code",
      "source": [
        "matrix = [[1, 2, 3],\n",
        "          [4, 5, 6],\n",
        "          [7, 8, 9]]\n",
        "diag(matrix)"
      ],
      "execution_count": 135,
      "outputs": [
        {
          "output_type": "execute_result",
          "data": {
            "text/plain": [
              "[1, 5, 9]"
            ]
          },
          "metadata": {
            "tags": []
          },
          "execution_count": 135
        }
      ]
    },
    {
      "metadata": {
        "id": "VQkmS5uJnQ06",
        "colab_type": "code",
        "colab": {}
      },
      "cell_type": "code",
      "source": [
        "def fib(n):\n",
        "    a = 1\n",
        "    b = 1\n",
        "    for i in range(n-2):\n",
        "        c = a+b\n",
        "        a = b\n",
        "        b = c\n",
        "    return b"
      ],
      "execution_count": 0,
      "outputs": []
    },
    {
      "metadata": {
        "id": "ZdhetIigng93",
        "colab_type": "code",
        "colab": {
          "base_uri": "https://localhost:8080/",
          "height": 171
        },
        "outputId": "12875e5d-b368-400c-abf0-87cf030f3b98"
      },
      "cell_type": "code",
      "source": [
        "for n in range(1,10):\n",
        "    print(fib(n))"
      ],
      "execution_count": 130,
      "outputs": [
        {
          "output_type": "stream",
          "text": [
            "1\n",
            "1\n",
            "2\n",
            "3\n",
            "5\n",
            "8\n",
            "13\n",
            "21\n",
            "34\n"
          ],
          "name": "stdout"
        }
      ]
    },
    {
      "metadata": {
        "id": "smqYVN4FnkRH",
        "colab_type": "code",
        "colab": {}
      },
      "cell_type": "code",
      "source": [
        "with open('stuff.txt') as f:\n",
        "    for line in f:\n",
        "        print(line)"
      ],
      "execution_count": 0,
      "outputs": []
    },
    {
      "metadata": {
        "id": "PwXAnkflpAMu",
        "colab_type": "code",
        "colab": {}
      },
      "cell_type": "code",
      "source": [
        "with open('output.txt', 'w') as f:\n",
        "    for item in myList:\n",
        "        print(item, file=f)"
      ],
      "execution_count": 0,
      "outputs": []
    },
    {
      "metadata": {
        "id": "2fL60JtBpXi5",
        "colab_type": "code",
        "colab": {}
      },
      "cell_type": "code",
      "source": [
        ""
      ],
      "execution_count": 0,
      "outputs": []
    }
  ]
}