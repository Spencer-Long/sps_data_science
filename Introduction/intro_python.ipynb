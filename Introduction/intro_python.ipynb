{
  "nbformat": 4,
  "nbformat_minor": 0,
  "metadata": {
    "colab": {
      "name": "BootCamp_v2.ipynb",
      "version": "0.3.2",
      "provenance": [],
      "collapsed_sections": [],
      "toc_visible": true
    },
    "kernelspec": {
      "name": "python3",
      "display_name": "Python 3"
    }
  },
  "cells": [
    {
      "metadata": {
        "id": "Z3ccTtpoT01T",
        "colab_type": "text"
      },
      "cell_type": "markdown",
      "source": [
        "# Python Bootcamp 2: Electric Boogaloo"
      ]
    },
    {
      "metadata": {
        "id": "yKpTYVegWSXk",
        "colab_type": "text"
      },
      "cell_type": "markdown",
      "source": [
        "# Bootcamp Schedule Planning\n",
        "---"
      ]
    },
    {
      "metadata": {
        "id": "uP6W0N28WWjW",
        "colab_type": "text"
      },
      "cell_type": "markdown",
      "source": [
        "1. What is programming?\n",
        "\n",
        "1. Intro. to Python fundamentals\n",
        "\n",
        "1. Lunch / break\n",
        "\n",
        "1. More fundamentals\n",
        "\n",
        "1. Intro to data science (future events) spiel\n",
        "\n",
        "1. End of event "
      ]
    },
    {
      "metadata": {
        "id": "LMA_A3ubTPEM",
        "colab_type": "text"
      },
      "cell_type": "markdown",
      "source": [
        "# Introduction to Programming\n",
        "---"
      ]
    },
    {
      "metadata": {
        "id": "zWYnwxI2PBNZ",
        "colab_type": "text"
      },
      "cell_type": "markdown",
      "source": [
        "### What Does a Computer Do\n",
        "1. Executes commands in sequence\n",
        "1. Each command operates on the current state of the machine\n",
        "1. Computers are dumb"
      ]
    },
    {
      "metadata": {
        "id": "S9K6ZR-FsQK-",
        "colab_type": "text"
      },
      "cell_type": "markdown",
      "source": [
        "### Concept of a Program\n",
        "1. Stored sequence of commands"
      ]
    },
    {
      "metadata": {
        "id": "buJkY_0i5c-3",
        "colab_type": "code",
        "colab": {}
      },
      "cell_type": "code",
      "source": [
        ""
      ],
      "execution_count": 0,
      "outputs": []
    },
    {
      "metadata": {
        "id": "Tg_S-SQIBanS",
        "colab_type": "text"
      },
      "cell_type": "markdown",
      "source": [
        "# Standalone Python Topics\n",
        "---"
      ]
    },
    {
      "metadata": {
        "id": "Y1mpeSxoo9vR",
        "colab_type": "text"
      },
      "cell_type": "markdown",
      "source": [
        "### Functions Part I\n",
        "\n",
        "1. Function name\n",
        "1. Parameters\n",
        "1. Return\n"
      ]
    },
    {
      "metadata": {
        "id": "lLK3DdY-dwKD",
        "colab_type": "text"
      },
      "cell_type": "markdown",
      "source": [
        "####Function: print()"
      ]
    },
    {
      "metadata": {
        "id": "Y_Gy_xcidwJk",
        "colab_type": "code",
        "colab": {
          "base_uri": "https://localhost:8080/",
          "height": 50
        },
        "outputId": "3a509ae9-c943-4574-9f24-8e3300f1c5ac"
      },
      "cell_type": "code",
      "source": [
        "print(\"Hello World\")\n",
        "print(\"Cat\", \"because cat\")"
      ],
      "execution_count": 1,
      "outputs": [
        {
          "output_type": "stream",
          "text": [
            "Hello World\n",
            "Cat because cat\n"
          ],
          "name": "stdout"
        }
      ]
    },
    {
      "metadata": {
        "id": "YH4fd9tmuCMm",
        "colab_type": "text"
      },
      "cell_type": "markdown",
      "source": [
        "#### Function: help()"
      ]
    },
    {
      "metadata": {
        "id": "q5kjh_jFqXsJ",
        "colab_type": "code",
        "colab": {
          "base_uri": "https://localhost:8080/",
          "height": 218
        },
        "outputId": "de06dfe8-8fc8-470f-c418-c3a3c22306f6"
      },
      "cell_type": "code",
      "source": [
        "help(print)"
      ],
      "execution_count": 2,
      "outputs": [
        {
          "output_type": "stream",
          "text": [
            "Help on built-in function print in module builtins:\n",
            "\n",
            "print(...)\n",
            "    print(value, ..., sep=' ', end='\\n', file=sys.stdout, flush=False)\n",
            "    \n",
            "    Prints the values to a stream, or to sys.stdout by default.\n",
            "    Optional keyword arguments:\n",
            "    file:  a file-like object (stream); defaults to the current sys.stdout.\n",
            "    sep:   string inserted between values, default a space.\n",
            "    end:   string appended after the last value, default a newline.\n",
            "    flush: whether to forcibly flush the stream.\n",
            "\n"
          ],
          "name": "stdout"
        }
      ]
    },
    {
      "metadata": {
        "id": "gjhxgbz2vZqp",
        "colab_type": "text"
      },
      "cell_type": "markdown",
      "source": [
        "### Names"
      ]
    },
    {
      "metadata": {
        "id": "mJ-sif8MyCxa",
        "colab_type": "text"
      },
      "cell_type": "markdown",
      "source": [
        "#### Concept of a name\n",
        "1. Something that can be used to refer to something else\n",
        "1. For example, variable names in math"
      ]
    },
    {
      "metadata": {
        "id": "lFiZ_TDdchL5",
        "colab_type": "code",
        "colab": {
          "base_uri": "https://localhost:8080/",
          "height": 34
        },
        "outputId": "0ea787c8-2780-4a67-ae6b-d8b5086b51d8"
      },
      "cell_type": "code",
      "source": [
        "greeting = \"Hello World\"\n",
        "print(greeting)"
      ],
      "execution_count": 3,
      "outputs": [
        {
          "output_type": "stream",
          "text": [
            "Hello World\n"
          ],
          "name": "stdout"
        }
      ]
    },
    {
      "metadata": {
        "id": "gHUPeufrv9oN",
        "colab_type": "text"
      },
      "cell_type": "markdown",
      "source": [
        "#### Rules for names\n",
        "1. May consist of letters, numbers, and underscores\n",
        "1. Cannot start with a number\n",
        "1. Is case sensitive\n"
      ]
    },
    {
      "metadata": {
        "id": "XyYDbabdb55p",
        "colab_type": "code",
        "colab": {
          "base_uri": "https://localhost:8080/",
          "height": 34
        },
        "outputId": "34db85b7-c719-4f1b-aad2-3e9e4995b6e9"
      },
      "cell_type": "code",
      "source": [
        "five_5_V = 5\n",
        "print(five_5_V)"
      ],
      "execution_count": 4,
      "outputs": [
        {
          "output_type": "stream",
          "text": [
            "5\n"
          ],
          "name": "stdout"
        }
      ]
    },
    {
      "metadata": {
        "id": "NB-Xx8sfcTsa",
        "colab_type": "code",
        "colab": {
          "base_uri": "https://localhost:8080/",
          "height": 162
        },
        "outputId": "d1600470-056c-4687-8db1-53246c39f728"
      },
      "cell_type": "code",
      "source": [
        "print(five_5_v)"
      ],
      "execution_count": 5,
      "outputs": [
        {
          "output_type": "error",
          "ename": "NameError",
          "evalue": "ignored",
          "traceback": [
            "\u001b[0;31m---------------------------------------------------------------------------\u001b[0m",
            "\u001b[0;31mNameError\u001b[0m                                 Traceback (most recent call last)",
            "\u001b[0;32m<ipython-input-5-ae9ba6666192>\u001b[0m in \u001b[0;36m<module>\u001b[0;34m()\u001b[0m\n\u001b[0;32m----> 1\u001b[0;31m \u001b[0mprint\u001b[0m\u001b[0;34m(\u001b[0m\u001b[0mfive_5_v\u001b[0m\u001b[0;34m)\u001b[0m\u001b[0;34m\u001b[0m\u001b[0m\n\u001b[0m",
            "\u001b[0;31mNameError\u001b[0m: name 'five_5_v' is not defined"
          ]
        }
      ]
    },
    {
      "metadata": {
        "id": "VkFNnHRYx_cS",
        "colab_type": "text"
      },
      "cell_type": "markdown",
      "source": [
        "#### Don't use the same name as a \"built-in\"\n",
        "1. Keywords\n",
        "1. Pre-loaded stuff"
      ]
    },
    {
      "metadata": {
        "id": "0X7J1ozOZLb8",
        "colab_type": "code",
        "colab": {
          "base_uri": "https://localhost:8080/",
          "height": 128
        },
        "outputId": "40ba10ec-da9c-4e30-a41c-4ec0e22b5a3b"
      },
      "cell_type": "code",
      "source": [
        "False = 5"
      ],
      "execution_count": 6,
      "outputs": [
        {
          "output_type": "error",
          "ename": "SyntaxError",
          "evalue": "ignored",
          "traceback": [
            "\u001b[0;36m  File \u001b[0;32m\"<ipython-input-6-714297824100>\"\u001b[0;36m, line \u001b[0;32m1\u001b[0m\n\u001b[0;31m    False = 5\u001b[0m\n\u001b[0m             ^\u001b[0m\n\u001b[0;31mSyntaxError\u001b[0m\u001b[0;31m:\u001b[0m can't assign to keyword\n"
          ]
        }
      ]
    },
    {
      "metadata": {
        "id": "lSoPGyN6ZilD",
        "colab_type": "code",
        "colab": {
          "base_uri": "https://localhost:8080/",
          "height": 195
        },
        "outputId": "8b94ec37-1756-4b0e-b663-124a719749b4"
      },
      "cell_type": "code",
      "source": [
        "print_bk = print\n",
        "print = 6\n",
        "print(greeting)"
      ],
      "execution_count": 7,
      "outputs": [
        {
          "output_type": "error",
          "ename": "TypeError",
          "evalue": "ignored",
          "traceback": [
            "\u001b[0;31m---------------------------------------------------------------------------\u001b[0m",
            "\u001b[0;31mTypeError\u001b[0m                                 Traceback (most recent call last)",
            "\u001b[0;32m<ipython-input-7-f72952788674>\u001b[0m in \u001b[0;36m<module>\u001b[0;34m()\u001b[0m\n\u001b[1;32m      1\u001b[0m \u001b[0mprint_bk\u001b[0m \u001b[0;34m=\u001b[0m \u001b[0mprint\u001b[0m\u001b[0;34m\u001b[0m\u001b[0m\n\u001b[1;32m      2\u001b[0m \u001b[0mprint\u001b[0m \u001b[0;34m=\u001b[0m \u001b[0;36m6\u001b[0m\u001b[0;34m\u001b[0m\u001b[0m\n\u001b[0;32m----> 3\u001b[0;31m \u001b[0mprint\u001b[0m\u001b[0;34m(\u001b[0m\u001b[0mgreeting\u001b[0m\u001b[0;34m)\u001b[0m\u001b[0;34m\u001b[0m\u001b[0m\n\u001b[0m",
            "\u001b[0;31mTypeError\u001b[0m: 'int' object is not callable"
          ]
        }
      ]
    },
    {
      "metadata": {
        "id": "nWmChDgwi0Hb",
        "colab_type": "code",
        "colab": {
          "base_uri": "https://localhost:8080/",
          "height": 34
        },
        "outputId": "e542396e-2934-44de-9994-2e23643d4344"
      },
      "cell_type": "code",
      "source": [
        "print = print_bk\n",
        "print(greeting)"
      ],
      "execution_count": 8,
      "outputs": [
        {
          "output_type": "stream",
          "text": [
            "Hello World\n"
          ],
          "name": "stdout"
        }
      ]
    },
    {
      "metadata": {
        "id": "pg29pQSQDJh9",
        "colab_type": "text"
      },
      "cell_type": "markdown",
      "source": [
        "### Basic Data Types"
      ]
    },
    {
      "metadata": {
        "id": "FJLr28uyC9sC",
        "colab_type": "code",
        "colab": {}
      },
      "cell_type": "code",
      "source": [
        "myInteger = 2\n",
        "myFloat = 3.1415\n",
        "myString = \"apple\"\n",
        "myBoolean = True"
      ],
      "execution_count": 0,
      "outputs": []
    },
    {
      "metadata": {
        "id": "tpOc_P--tjLr",
        "colab_type": "text"
      },
      "cell_type": "markdown",
      "source": [
        "#### Function: type()"
      ]
    },
    {
      "metadata": {
        "id": "J2zPotMctvUv",
        "colab_type": "code",
        "colab": {
          "base_uri": "https://localhost:8080/",
          "height": 84
        },
        "outputId": "1909232f-55f5-4db3-c905-8ab39562d6af"
      },
      "cell_type": "code",
      "source": [
        "print(type(myInteger))\n",
        "print(type(myFloat))\n",
        "print(type(myString))\n",
        "print(type(myBoolean))"
      ],
      "execution_count": 10,
      "outputs": [
        {
          "output_type": "stream",
          "text": [
            "<class 'int'>\n",
            "<class 'float'>\n",
            "<class 'str'>\n",
            "<class 'bool'>\n"
          ],
          "name": "stdout"
        }
      ]
    },
    {
      "metadata": {
        "id": "EwX6ljMmSowj",
        "colab_type": "text"
      },
      "cell_type": "markdown",
      "source": [
        "#### Functions: type casting"
      ]
    },
    {
      "metadata": {
        "id": "HzpD0imsSm7t",
        "colab_type": "code",
        "colab": {
          "base_uri": "https://localhost:8080/",
          "height": 50
        },
        "outputId": "6e7392db-1f1a-4abc-cb77-07a01b26e990"
      },
      "cell_type": "code",
      "source": [
        "print(float(myInteger))\n",
        "print(int(myFloat))"
      ],
      "execution_count": 11,
      "outputs": [
        {
          "output_type": "stream",
          "text": [
            "2.0\n",
            "3\n"
          ],
          "name": "stdout"
        }
      ]
    },
    {
      "metadata": {
        "id": "68nSHUBF3M0E",
        "colab_type": "text"
      },
      "cell_type": "markdown",
      "source": [
        "### Exercise 1\n",
        "1. Does int() correctly round floats?\n",
        "1. What are the numerical equivalents of booleans?\n",
        "1. What strings can you successfully cast into ints, floats, and booleans?"
      ]
    },
    {
      "metadata": {
        "id": "SRKoCPUZjZCx",
        "colab_type": "code",
        "colab": {
          "base_uri": "https://localhost:8080/",
          "height": 84
        },
        "outputId": "245dd359-2dc4-4169-befa-d267f73108b6"
      },
      "cell_type": "code",
      "source": [
        "print(int(1.9))\n",
        "print(float(False))\n",
        "print(float('inf'))\n",
        "print(bool(5))"
      ],
      "execution_count": 12,
      "outputs": [
        {
          "output_type": "stream",
          "text": [
            "1\n",
            "0.0\n",
            "inf\n",
            "True\n"
          ],
          "name": "stdout"
        }
      ]
    },
    {
      "metadata": {
        "id": "TwWL02uYlHjr",
        "colab_type": "text"
      },
      "cell_type": "markdown",
      "source": [
        "### Basic Math"
      ]
    },
    {
      "metadata": {
        "id": "YSYBfC-9lHrz",
        "colab_type": "code",
        "colab": {
          "base_uri": "https://localhost:8080/",
          "height": 101
        },
        "outputId": "724228d0-ed0a-4f0b-c76a-409c32155adb"
      },
      "cell_type": "code",
      "source": [
        "a = 2\n",
        "b = 4.5\n",
        "c = \"apple\"\n",
        "\n",
        "print(a+b)\n",
        "print(a-b)\n",
        "print(a*b)\n",
        "print(a/b)\n",
        "print(c+str(a))"
      ],
      "execution_count": 13,
      "outputs": [
        {
          "output_type": "stream",
          "text": [
            "6.5\n",
            "-2.5\n",
            "9.0\n",
            "0.4444444444444444\n",
            "apple2\n"
          ],
          "name": "stdout"
        }
      ]
    },
    {
      "metadata": {
        "id": "MdpDq5TerZn1",
        "colab_type": "code",
        "colab": {
          "base_uri": "https://localhost:8080/",
          "height": 50
        },
        "outputId": "d930f128-27fd-47de-f714-7bd3bc5774a2"
      },
      "cell_type": "code",
      "source": [
        "print(abs(-7))\n",
        "print(round(2.6))"
      ],
      "execution_count": 14,
      "outputs": [
        {
          "output_type": "stream",
          "text": [
            "7\n",
            "3\n"
          ],
          "name": "stdout"
        }
      ]
    },
    {
      "metadata": {
        "id": "TSK5Kil-0z4A",
        "colab_type": "text"
      },
      "cell_type": "markdown",
      "source": [
        "### Exercise 2\n",
        "Try mathematical operations with combinations of different data types.\n",
        "1. What do the following operators do?\n",
        "  1. **\n",
        "  1. //\n",
        "  1. %\n",
        "1. What combinations of data types work or don't work?\n",
        "1. Did you find anything that you didn't expect?"
      ]
    },
    {
      "metadata": {
        "id": "-JtCQkVSk1Hb",
        "colab_type": "code",
        "colab": {
          "base_uri": "https://localhost:8080/",
          "height": 84
        },
        "outputId": "55b5b63a-a68e-4653-9dd0-3a3c565392bc"
      },
      "cell_type": "code",
      "source": [
        "print(3**2)\n",
        "print(5//2)\n",
        "print(5%2)\n",
        "print(c*2)"
      ],
      "execution_count": 15,
      "outputs": [
        {
          "output_type": "stream",
          "text": [
            "9\n",
            "2\n",
            "1\n",
            "appleapple\n"
          ],
          "name": "stdout"
        }
      ]
    },
    {
      "metadata": {
        "id": "wNd-9e-2El91",
        "colab_type": "text"
      },
      "cell_type": "markdown",
      "source": [
        "### Formatted Strings"
      ]
    },
    {
      "metadata": {
        "id": "FGfJlX7wFN0O",
        "colab_type": "code",
        "colab": {
          "base_uri": "https://localhost:8080/",
          "height": 34
        },
        "outputId": "268f991c-1c5b-43b9-f04f-dc2d366d0173"
      },
      "cell_type": "code",
      "source": [
        "print(\"The product of {0:.1f} and {1:.2f} is : {2}\".format(myInteger, myFloat, myInteger*myFloat))"
      ],
      "execution_count": 16,
      "outputs": [
        {
          "output_type": "stream",
          "text": [
            "The product of 2.0 and 3.14 is : 6.283\n"
          ],
          "name": "stdout"
        }
      ]
    },
    {
      "metadata": {
        "id": "vWzWOVBHVcIB",
        "colab_type": "text"
      },
      "cell_type": "markdown",
      "source": [
        "### Functions Part II\n",
        "1. Defining parameters\n",
        "1. Indentation\n",
        "1. Return statement"
      ]
    },
    {
      "metadata": {
        "id": "MLfJ_yBuabDC",
        "colab_type": "code",
        "colab": {}
      },
      "cell_type": "code",
      "source": [
        "def newton_force(mass, accel=9.8):\n",
        "    return mass*accel"
      ],
      "execution_count": 0,
      "outputs": []
    },
    {
      "metadata": {
        "id": "huOSoJtVap0i",
        "colab_type": "code",
        "colab": {
          "base_uri": "https://localhost:8080/",
          "height": 34
        },
        "outputId": "a8e0e2bd-c4eb-4acf-fc50-4ae7ac6e3b14"
      },
      "cell_type": "code",
      "source": [
        "print(newton_force(2,10))"
      ],
      "execution_count": 18,
      "outputs": [
        {
          "output_type": "stream",
          "text": [
            "20\n"
          ],
          "name": "stdout"
        }
      ]
    },
    {
      "metadata": {
        "id": "FqbPobK8Vpve",
        "colab_type": "code",
        "colab": {}
      },
      "cell_type": "code",
      "source": [
        "def make_sandwich():\n",
        "    print(\"I can't... I don't have any hands. :(\")"
      ],
      "execution_count": 0,
      "outputs": []
    },
    {
      "metadata": {
        "id": "kSAR9cjOYWU-",
        "colab_type": "code",
        "colab": {
          "base_uri": "https://localhost:8080/",
          "height": 34
        },
        "outputId": "1381e313-5a31-4185-c12b-4c2654c7f900"
      },
      "cell_type": "code",
      "source": [
        "make_sandwich()"
      ],
      "execution_count": 20,
      "outputs": [
        {
          "output_type": "stream",
          "text": [
            "I can't... I don't have any hands. :(\n"
          ],
          "name": "stdout"
        }
      ]
    },
    {
      "metadata": {
        "id": "UjmmDc5o2VFF",
        "colab_type": "text"
      },
      "cell_type": "markdown",
      "source": [
        "#### Optional Stuff"
      ]
    },
    {
      "metadata": {
        "id": "RkLNkq2LvDF-",
        "colab_type": "code",
        "colab": {}
      },
      "cell_type": "code",
      "source": [
        "def newton_force(mass: \"in KG\", accel : \"in m/s^2\") -> \"Newtons\":\n",
        "    return mass*accel"
      ],
      "execution_count": 0,
      "outputs": []
    },
    {
      "metadata": {
        "id": "9D6Btu9AvLzu",
        "colab_type": "code",
        "colab": {
          "base_uri": "https://localhost:8080/",
          "height": 34
        },
        "outputId": "456b9c2d-2705-4d6e-d02c-ff6781c66eda"
      },
      "cell_type": "code",
      "source": [
        "'{:,} {}'.format(newton_force(2,10),\n",
        "                 newton_force.__annotations__['return'])"
      ],
      "execution_count": 22,
      "outputs": [
        {
          "output_type": "execute_result",
          "data": {
            "text/plain": [
              "'20 Newtons'"
            ]
          },
          "metadata": {
            "tags": []
          },
          "execution_count": 22
        }
      ]
    },
    {
      "metadata": {
        "id": "3l_wrwlC2bHY",
        "colab_type": "text"
      },
      "cell_type": "markdown",
      "source": [
        "### Exercise 3\n",
        "Define a function that calculates the hypotenuse of a right triangle."
      ]
    },
    {
      "metadata": {
        "id": "9zDBVjZrlyzV",
        "colab_type": "code",
        "colab": {}
      },
      "cell_type": "code",
      "source": [
        "def hypot(x, y):\n",
        "    return (x**2 + y**2)**0.5"
      ],
      "execution_count": 0,
      "outputs": []
    },
    {
      "metadata": {
        "id": "RK0bpNCxEq2I",
        "colab_type": "text"
      },
      "cell_type": "markdown",
      "source": [
        "### Conditionals"
      ]
    },
    {
      "metadata": {
        "id": "zzfMJAp-FL1m",
        "colab_type": "text"
      },
      "cell_type": "markdown",
      "source": [
        "#### Conditionals with Math"
      ]
    },
    {
      "metadata": {
        "id": "cjeSaWJxC9yP",
        "colab_type": "code",
        "colab": {
          "base_uri": "https://localhost:8080/",
          "height": 118
        },
        "outputId": "5f2bf564-258c-4633-c60d-d3a605efbe4b"
      },
      "cell_type": "code",
      "source": [
        "print(3 == 3)\n",
        "print(3 > 5)\n",
        "print(3 < 5)\n",
        "print(1 <= 2)\n",
        "print(2 >= 1)\n",
        "print(2 != 1)"
      ],
      "execution_count": 24,
      "outputs": [
        {
          "output_type": "stream",
          "text": [
            "True\n",
            "False\n",
            "True\n",
            "True\n",
            "True\n",
            "True\n"
          ],
          "name": "stdout"
        }
      ]
    },
    {
      "metadata": {
        "id": "yDi0tvDfKPEA",
        "colab_type": "code",
        "colab": {
          "base_uri": "https://localhost:8080/",
          "height": 67
        },
        "outputId": "1c5654bf-c763-4b28-cb16-8e887d176d82"
      },
      "cell_type": "code",
      "source": [
        "a = 5/3\n",
        "b = 1 + 2/3\n",
        "print(a == b)\n",
        "print(a)\n",
        "print(b)"
      ],
      "execution_count": 25,
      "outputs": [
        {
          "output_type": "stream",
          "text": [
            "False\n",
            "1.6666666666666667\n",
            "1.6666666666666665\n"
          ],
          "name": "stdout"
        }
      ]
    },
    {
      "metadata": {
        "id": "2KgGL7P-FOLC",
        "colab_type": "text"
      },
      "cell_type": "markdown",
      "source": [
        "#### More Conditionals"
      ]
    },
    {
      "metadata": {
        "id": "uBFq4vvUFaVS",
        "colab_type": "code",
        "colab": {
          "base_uri": "https://localhost:8080/",
          "height": 84
        },
        "outputId": "ee058b60-923d-4848-b904-1591e3399c89"
      },
      "cell_type": "code",
      "source": [
        "print(\"apple\" == \"banana\")\n",
        "print(len(\"apple\") == 5)\n",
        "print(\"b\" in \"banana\")\n",
        "print(\"q\" in \"apple\")"
      ],
      "execution_count": 26,
      "outputs": [
        {
          "output_type": "stream",
          "text": [
            "False\n",
            "True\n",
            "True\n",
            "False\n"
          ],
          "name": "stdout"
        }
      ]
    },
    {
      "metadata": {
        "id": "JaETXgTnFhJ0",
        "colab_type": "text"
      },
      "cell_type": "markdown",
      "source": [
        "### Flow Control Part I"
      ]
    },
    {
      "metadata": {
        "id": "4R4Uv0o90KBQ",
        "colab_type": "text"
      },
      "cell_type": "markdown",
      "source": [
        "####If Statements"
      ]
    },
    {
      "metadata": {
        "id": "ER0eFndcKIh3",
        "colab_type": "code",
        "colab": {
          "base_uri": "https://localhost:8080/",
          "height": 67
        },
        "outputId": "ef1899b1-b76c-41a0-dd99-2a7de82f0ca3"
      },
      "cell_type": "code",
      "source": [
        "def do_it(a, b):\n",
        "    if a == b:\n",
        "        print(\"Yes\")\n",
        "    elif b > a:\n",
        "        print(\"No\")\n",
        "    else:\n",
        "        print(\"I give up\")\n",
        "\n",
        "do_it(3, 3)\n",
        "do_it(10, 100)\n",
        "do_it(0.1, 0)"
      ],
      "execution_count": 27,
      "outputs": [
        {
          "output_type": "stream",
          "text": [
            "Yes\n",
            "No\n",
            "I give up\n"
          ],
          "name": "stdout"
        }
      ]
    },
    {
      "metadata": {
        "id": "eBmg6dji0b4u",
        "colab_type": "text"
      },
      "cell_type": "markdown",
      "source": [
        "####While Loops"
      ]
    },
    {
      "metadata": {
        "id": "b6wz51biltbR",
        "colab_type": "code",
        "colab": {
          "base_uri": "https://localhost:8080/",
          "height": 101
        },
        "outputId": "60cc2e6c-6569-4fe8-874a-df0a95f19538"
      },
      "cell_type": "code",
      "source": [
        "a = 5\n",
        "b = 1\n",
        "\n",
        "while a > b:\n",
        "    print('{} is greater than {}'.format(a,b))\n",
        "    b = b+1\n",
        "\n",
        "print('{} is not greater than {}'.format(a,b))"
      ],
      "execution_count": 28,
      "outputs": [
        {
          "output_type": "stream",
          "text": [
            "5 is greater than 1\n",
            "5 is greater than 2\n",
            "5 is greater than 3\n",
            "5 is greater than 4\n",
            "5 is not greater than 5\n"
          ],
          "name": "stdout"
        }
      ]
    },
    {
      "metadata": {
        "id": "sHFO3tYg5f2u",
        "colab_type": "text"
      },
      "cell_type": "markdown",
      "source": [
        "### Exercise 4\n",
        "1. Define a function that checks if two positions are \"close enough\" (i.e. within some distance d).\n",
        "  1. 1D positions\n",
        "  1. 2D positions\n",
        "1. Define a function that calculates a factorial."
      ]
    },
    {
      "metadata": {
        "id": "-R5_WLsyoo2p",
        "colab_type": "code",
        "colab": {
          "base_uri": "https://localhost:8080/",
          "height": 101
        },
        "outputId": "de4021a1-f83c-426f-be58-c65e2e486197"
      },
      "cell_type": "code",
      "source": [
        "def close_enough_1d(x1, x2, d):\n",
        "    if abs(x1-x2) < d:\n",
        "        print('close enough (1d)')\n",
        "        return True\n",
        "    else:\n",
        "        print('too far (1d)')\n",
        "        return False\n",
        "\n",
        "def close_enough_2d(x1, y1, x2, y2, d):\n",
        "    if hypot(x1-x2, y1-y2) < d:\n",
        "        print('close enough (2d)')\n",
        "        return True\n",
        "    else:\n",
        "        print('too far (2d)')\n",
        "        return False\n",
        "\n",
        "close_enough_1d(-5, 1.9, 7)\n",
        "close_enough_1d(-5, 2.1, 7)\n",
        "\n",
        "close_enough_2d(0, 0, 3, 3.9, 5)\n",
        "close_enough_2d(0, 0, 3, 4.1, 5)"
      ],
      "execution_count": 29,
      "outputs": [
        {
          "output_type": "stream",
          "text": [
            "close enough (1d)\n",
            "too far (1d)\n",
            "close enough (2d)\n",
            "too far (2d)\n"
          ],
          "name": "stdout"
        },
        {
          "output_type": "execute_result",
          "data": {
            "text/plain": [
              "False"
            ]
          },
          "metadata": {
            "tags": []
          },
          "execution_count": 29
        }
      ]
    },
    {
      "metadata": {
        "id": "q2_5g78Etldh",
        "colab_type": "code",
        "colab": {
          "base_uri": "https://localhost:8080/",
          "height": 50
        },
        "outputId": "441e30c7-90c7-4c27-896c-4cd6924715d6"
      },
      "cell_type": "code",
      "source": [
        "def factorial(n):\n",
        "    f = 1\n",
        "    while n > 1:\n",
        "        f = f*n\n",
        "        n = n-1\n",
        "    return(f)\n",
        "\n",
        "print(factorial(0))\n",
        "print(factorial(4))"
      ],
      "execution_count": 30,
      "outputs": [
        {
          "output_type": "stream",
          "text": [
            "1\n",
            "24\n"
          ],
          "name": "stdout"
        }
      ]
    },
    {
      "metadata": {
        "id": "9INeCq-gvbOd",
        "colab_type": "text"
      },
      "cell_type": "markdown",
      "source": [
        "### Some Data Structures"
      ]
    },
    {
      "metadata": {
        "id": "TTkz_A3LwMjE",
        "colab_type": "text"
      },
      "cell_type": "markdown",
      "source": [
        "#### Concept of an array\n",
        "1. A collection of things with the same type"
      ]
    },
    {
      "metadata": {
        "id": "c2PYBZuXvbOc",
        "colab_type": "text"
      },
      "cell_type": "markdown",
      "source": [
        "#### Arrays as Python Lists"
      ]
    },
    {
      "metadata": {
        "id": "cKPEIBg2vbOa",
        "colab_type": "code",
        "colab": {
          "base_uri": "https://localhost:8080/",
          "height": 34
        },
        "outputId": "810c5904-9fbb-4f7a-a495-f8116e00ef67"
      },
      "cell_type": "code",
      "source": [
        "myList = [\"apple\", \"banana\", \"shark\", \"castle\"]\n",
        "print(myList)"
      ],
      "execution_count": 31,
      "outputs": [
        {
          "output_type": "stream",
          "text": [
            "['apple', 'banana', 'shark', 'castle']\n"
          ],
          "name": "stdout"
        }
      ]
    },
    {
      "metadata": {
        "id": "FFNPTdKQKRTE",
        "colab_type": "text"
      },
      "cell_type": "markdown",
      "source": [
        "##### Adding, removing items"
      ]
    },
    {
      "metadata": {
        "id": "vUdUAQwgKaK-",
        "colab_type": "code",
        "colab": {
          "base_uri": "https://localhost:8080/",
          "height": 34
        },
        "outputId": "621ceb0d-752d-466d-e958-23a08d97f7f2"
      },
      "cell_type": "code",
      "source": [
        "myList.append(\"ballistic missile\")\n",
        "print(myList)"
      ],
      "execution_count": 32,
      "outputs": [
        {
          "output_type": "stream",
          "text": [
            "['apple', 'banana', 'shark', 'castle', 'ballistic missile']\n"
          ],
          "name": "stdout"
        }
      ]
    },
    {
      "metadata": {
        "id": "7K5y6V5MK912",
        "colab_type": "code",
        "colab": {
          "base_uri": "https://localhost:8080/",
          "height": 34
        },
        "outputId": "ef1fac89-c6a2-464d-9456-1101adc82aea"
      },
      "cell_type": "code",
      "source": [
        "myList.remove(\"banana\")\n",
        "print(myList)"
      ],
      "execution_count": 33,
      "outputs": [
        {
          "output_type": "stream",
          "text": [
            "['apple', 'shark', 'castle', 'ballistic missile']\n"
          ],
          "name": "stdout"
        }
      ]
    },
    {
      "metadata": {
        "id": "pNxhnhjuLT2i",
        "colab_type": "code",
        "colab": {
          "base_uri": "https://localhost:8080/",
          "height": 34
        },
        "outputId": "b031c299-b7da-4165-9b5b-59ae0d4ab2c8"
      },
      "cell_type": "code",
      "source": [
        "myList.extend(myList)\n",
        "print(myList)"
      ],
      "execution_count": 34,
      "outputs": [
        {
          "output_type": "stream",
          "text": [
            "['apple', 'shark', 'castle', 'ballistic missile', 'apple', 'shark', 'castle', 'ballistic missile']\n"
          ],
          "name": "stdout"
        }
      ]
    },
    {
      "metadata": {
        "id": "hWqDBrD6vbOZ",
        "colab_type": "text"
      },
      "cell_type": "markdown",
      "source": [
        "##### Indexing, Slicing"
      ]
    },
    {
      "metadata": {
        "id": "HNRVnZxgvbOX",
        "colab_type": "code",
        "colab": {
          "base_uri": "https://localhost:8080/",
          "height": 84
        },
        "outputId": "befa705c-f93a-4360-9044-ff6b1b986418"
      },
      "cell_type": "code",
      "source": [
        "print(myList[0])\n",
        "print(myList[3])\n",
        "print(myList[1:3])\n",
        "print(myList[-1])"
      ],
      "execution_count": 35,
      "outputs": [
        {
          "output_type": "stream",
          "text": [
            "apple\n",
            "ballistic missile\n",
            "['shark', 'castle']\n",
            "ballistic missile\n"
          ],
          "name": "stdout"
        }
      ]
    },
    {
      "metadata": {
        "id": "tBzTN94fv-2b",
        "colab_type": "text"
      },
      "cell_type": "markdown",
      "source": [
        "#### Multi-dimensional Arrays"
      ]
    },
    {
      "metadata": {
        "id": "Vpz-5paKvbOW",
        "colab_type": "code",
        "colab": {
          "base_uri": "https://localhost:8080/",
          "height": 34
        },
        "outputId": "27808f23-f867-4a5c-d1ed-b72e5d952f23"
      },
      "cell_type": "code",
      "source": [
        "array_2d = [[0,1,2,3], [2,5,3,2], [6,3,1,7]]\n",
        "print(array_2d)"
      ],
      "execution_count": 36,
      "outputs": [
        {
          "output_type": "stream",
          "text": [
            "[[0, 1, 2, 3], [2, 5, 3, 2], [6, 3, 1, 7]]\n"
          ],
          "name": "stdout"
        }
      ]
    },
    {
      "metadata": {
        "id": "SmhIaqHWvbOU",
        "colab_type": "text"
      },
      "cell_type": "markdown",
      "source": [
        "##### Indexing, Slicing"
      ]
    },
    {
      "metadata": {
        "id": "kABN_49ZvbOS",
        "colab_type": "code",
        "colab": {
          "base_uri": "https://localhost:8080/",
          "height": 84
        },
        "outputId": "dd939faa-2573-4e8e-8dc4-2bc782539dc0"
      },
      "cell_type": "code",
      "source": [
        "print(array_2d[0])\n",
        "print(array_2d[1][0:2])\n",
        "print(array_2d[0:2])\n",
        "print(myList[0][0])"
      ],
      "execution_count": 37,
      "outputs": [
        {
          "output_type": "stream",
          "text": [
            "[0, 1, 2, 3]\n",
            "[2, 5]\n",
            "[[0, 1, 2, 3], [2, 5, 3, 2]]\n",
            "a\n"
          ],
          "name": "stdout"
        }
      ]
    },
    {
      "metadata": {
        "id": "PIfQHHngvbOR",
        "colab_type": "text"
      },
      "cell_type": "markdown",
      "source": [
        "#### Dictionary"
      ]
    },
    {
      "metadata": {
        "id": "LfRaGbvTvbOP",
        "colab_type": "code",
        "colab": {}
      },
      "cell_type": "code",
      "source": [
        "myDictionary = {\"a\" : 2.0, \"b\" : 3.0, \"c\" : 4.0, \"d\" : 5.0}"
      ],
      "execution_count": 0,
      "outputs": []
    },
    {
      "metadata": {
        "id": "tjAW8T2FvbOM",
        "colab_type": "code",
        "colab": {
          "base_uri": "https://localhost:8080/",
          "height": 34
        },
        "outputId": "3667b503-e3f8-46a2-9765-4697e100056c"
      },
      "cell_type": "code",
      "source": [
        "print(myDictionary.keys())"
      ],
      "execution_count": 39,
      "outputs": [
        {
          "output_type": "stream",
          "text": [
            "dict_keys(['a', 'b', 'c', 'd'])\n"
          ],
          "name": "stdout"
        }
      ]
    },
    {
      "metadata": {
        "id": "463MDB_GvbN_",
        "colab_type": "code",
        "colab": {
          "base_uri": "https://localhost:8080/",
          "height": 67
        },
        "outputId": "047bab6c-b433-4f4b-cb7b-e126c3a4143e"
      },
      "cell_type": "code",
      "source": [
        "print(myDictionary[\"a\"])\n",
        "print(myDictionary[\"c\"])\n",
        "print(myDictionary[\"d\"])"
      ],
      "execution_count": 40,
      "outputs": [
        {
          "output_type": "stream",
          "text": [
            "2.0\n",
            "4.0\n",
            "5.0\n"
          ],
          "name": "stdout"
        }
      ]
    },
    {
      "metadata": {
        "id": "2bdHB6BtvbN-",
        "colab_type": "text"
      },
      "cell_type": "markdown",
      "source": [
        "#### Function: len()"
      ]
    },
    {
      "metadata": {
        "id": "MgIaMrbVvbNx",
        "colab_type": "code",
        "colab": {
          "base_uri": "https://localhost:8080/",
          "height": 50
        },
        "outputId": "39c91cec-2d33-4636-bf11-8e28b117ee75"
      },
      "cell_type": "code",
      "source": [
        "print(len(myList))\n",
        "print(len(myDictionary))"
      ],
      "execution_count": 41,
      "outputs": [
        {
          "output_type": "stream",
          "text": [
            "8\n",
            "4\n"
          ],
          "name": "stdout"
        }
      ]
    },
    {
      "metadata": {
        "id": "RqqwAPaQxcP-",
        "colab_type": "text"
      },
      "cell_type": "markdown",
      "source": [
        "#### Note: Data Structures act like \"Pass-By-Reference\""
      ]
    },
    {
      "metadata": {
        "id": "iP-7nUrqyaVY",
        "colab_type": "code",
        "colab": {
          "base_uri": "https://localhost:8080/",
          "height": 34
        },
        "outputId": "cc219099-564f-458d-f2ca-c0625edd2936"
      },
      "cell_type": "code",
      "source": [
        "print(myList)"
      ],
      "execution_count": 42,
      "outputs": [
        {
          "output_type": "stream",
          "text": [
            "['apple', 'shark', 'castle', 'ballistic missile', 'apple', 'shark', 'castle', 'ballistic missile']\n"
          ],
          "name": "stdout"
        }
      ]
    },
    {
      "metadata": {
        "id": "JDO2oHRbydqg",
        "colab_type": "code",
        "colab": {
          "base_uri": "https://localhost:8080/",
          "height": 34
        },
        "outputId": "6361309d-dcbf-4d71-c6a6-34fc30a86258"
      },
      "cell_type": "code",
      "source": [
        "myCopy = myList\n",
        "myCopy.append('cat')\n",
        "print(myList)"
      ],
      "execution_count": 43,
      "outputs": [
        {
          "output_type": "stream",
          "text": [
            "['apple', 'shark', 'castle', 'ballistic missile', 'apple', 'shark', 'castle', 'ballistic missile', 'cat']\n"
          ],
          "name": "stdout"
        }
      ]
    },
    {
      "metadata": {
        "id": "_TzxCc5oytc2",
        "colab_type": "code",
        "colab": {
          "base_uri": "https://localhost:8080/",
          "height": 34
        },
        "outputId": "8bf63843-1137-42c9-8f10-a00ef3d2d606"
      },
      "cell_type": "code",
      "source": [
        "myCopy = myList.copy()\n",
        "myCopy.append('coconut')\n",
        "print(myList)"
      ],
      "execution_count": 44,
      "outputs": [
        {
          "output_type": "stream",
          "text": [
            "['apple', 'shark', 'castle', 'ballistic missile', 'apple', 'shark', 'castle', 'ballistic missile', 'cat']\n"
          ],
          "name": "stdout"
        }
      ]
    },
    {
      "metadata": {
        "id": "Xs48UlpqzDIn",
        "colab_type": "code",
        "colab": {
          "base_uri": "https://localhost:8080/",
          "height": 34
        },
        "outputId": "1f1b1a98-47ca-4653-b7e7-737300e821ec"
      },
      "cell_type": "code",
      "source": [
        "print(myCopy)"
      ],
      "execution_count": 45,
      "outputs": [
        {
          "output_type": "stream",
          "text": [
            "['apple', 'shark', 'castle', 'ballistic missile', 'apple', 'shark', 'castle', 'ballistic missile', 'cat', 'coconut']\n"
          ],
          "name": "stdout"
        }
      ]
    },
    {
      "metadata": {
        "id": "1uh732Wf0H6x",
        "colab_type": "text"
      },
      "cell_type": "markdown",
      "source": [
        "### Flow Control Part II"
      ]
    },
    {
      "metadata": {
        "id": "APtZmUMw0DI8",
        "colab_type": "text"
      },
      "cell_type": "markdown",
      "source": [
        "#### For Loops"
      ]
    },
    {
      "metadata": {
        "id": "1knMxRTFFhRZ",
        "colab_type": "code",
        "colab": {
          "base_uri": "https://localhost:8080/",
          "height": 168
        },
        "outputId": "cf133d1a-575c-4789-876c-1ab821710d12"
      },
      "cell_type": "code",
      "source": [
        "for item in myList:\n",
        "    print(item)"
      ],
      "execution_count": 46,
      "outputs": [
        {
          "output_type": "stream",
          "text": [
            "apple\n",
            "shark\n",
            "castle\n",
            "ballistic missile\n",
            "apple\n",
            "shark\n",
            "castle\n",
            "ballistic missile\n",
            "cat\n"
          ],
          "name": "stdout"
        }
      ]
    },
    {
      "metadata": {
        "id": "u6C4n2rVLCkG",
        "colab_type": "code",
        "colab": {
          "base_uri": "https://localhost:8080/",
          "height": 118
        },
        "outputId": "67a63476-7597-4df1-d058-4a310ea8bd8b"
      },
      "cell_type": "code",
      "source": [
        "myList2 = [1,2,3,4,5,6]\n",
        "\n",
        "for item in myList2:\n",
        "    print(item**2 + 3.8*item + 5.1)"
      ],
      "execution_count": 47,
      "outputs": [
        {
          "output_type": "stream",
          "text": [
            "9.899999999999999\n",
            "16.7\n",
            "25.5\n",
            "36.3\n",
            "49.1\n",
            "63.9\n"
          ],
          "name": "stdout"
        }
      ]
    },
    {
      "metadata": {
        "id": "M8eltZ_qNQtG",
        "colab_type": "code",
        "colab": {
          "base_uri": "https://localhost:8080/",
          "height": 118
        },
        "outputId": "d2d0774f-f035-4802-f456-a7e5ea5c9b40"
      },
      "cell_type": "code",
      "source": [
        "for item in myList2:\n",
        "    if item > 3:\n",
        "        print(\"True\")\n",
        "    else:\n",
        "        print(\"False\")"
      ],
      "execution_count": 48,
      "outputs": [
        {
          "output_type": "stream",
          "text": [
            "False\n",
            "False\n",
            "False\n",
            "True\n",
            "True\n",
            "True\n"
          ],
          "name": "stdout"
        }
      ]
    },
    {
      "metadata": {
        "id": "oeV0GcBxH3cj",
        "colab_type": "text"
      },
      "cell_type": "markdown",
      "source": [
        "#### Function: range()"
      ]
    },
    {
      "metadata": {
        "id": "6GsaHRs3H7sC",
        "colab_type": "code",
        "colab": {
          "base_uri": "https://localhost:8080/",
          "height": 168
        },
        "outputId": "f1ac8b9b-9651-44c2-caeb-f8b2486b1b48"
      },
      "cell_type": "code",
      "source": [
        "myRange = range(len(myList))\n",
        "for i in myRange:\n",
        "    print('{}: {}'.format(i, myList[i]))"
      ],
      "execution_count": 49,
      "outputs": [
        {
          "output_type": "stream",
          "text": [
            "0: apple\n",
            "1: shark\n",
            "2: castle\n",
            "3: ballistic missile\n",
            "4: apple\n",
            "5: shark\n",
            "6: castle\n",
            "7: ballistic missile\n",
            "8: cat\n"
          ],
          "name": "stdout"
        }
      ]
    },
    {
      "metadata": {
        "id": "ZLj7dbOmL6gm",
        "colab_type": "text"
      },
      "cell_type": "markdown",
      "source": [
        "#### List comprehension"
      ]
    },
    {
      "metadata": {
        "id": "7IOAZsk7L6YC",
        "colab_type": "code",
        "colab": {
          "base_uri": "https://localhost:8080/",
          "height": 34
        },
        "outputId": "c1346d76-cc85-44c5-88fb-c8e83ed4dd3b"
      },
      "cell_type": "code",
      "source": [
        "myList3 = [i**2 for i in myList2]\n",
        "print(myList3)"
      ],
      "execution_count": 50,
      "outputs": [
        {
          "output_type": "stream",
          "text": [
            "[1, 4, 9, 16, 25, 36]\n"
          ],
          "name": "stdout"
        }
      ]
    },
    {
      "metadata": {
        "id": "xCRDhJMo78M0",
        "colab_type": "text"
      },
      "cell_type": "markdown",
      "source": [
        "### Exercise 5\n",
        "Write a for loop that will draw the following pattern (out to the 50th line with 50 asterisks). <br>\n",
        "\\* <br>\n",
        "\\*\\* <br>\n",
        "\\*\\*\\* <br>\n",
        "\\*\\*\\*\\* <br>\n",
        "\\*\\*\\*\\*\\* <br>\n",
        "..."
      ]
    },
    {
      "metadata": {
        "id": "aBeRQEl4vejT",
        "colab_type": "code",
        "colab": {
          "base_uri": "https://localhost:8080/",
          "height": 857
        },
        "outputId": "9038333b-33aa-456c-ba35-1180a82ba147"
      },
      "cell_type": "code",
      "source": [
        "for i in range(50):\n",
        "    print('*'*(i+1))"
      ],
      "execution_count": 51,
      "outputs": [
        {
          "output_type": "stream",
          "text": [
            "*\n",
            "**\n",
            "***\n",
            "****\n",
            "*****\n",
            "******\n",
            "*******\n",
            "********\n",
            "*********\n",
            "**********\n",
            "***********\n",
            "************\n",
            "*************\n",
            "**************\n",
            "***************\n",
            "****************\n",
            "*****************\n",
            "******************\n",
            "*******************\n",
            "********************\n",
            "*********************\n",
            "**********************\n",
            "***********************\n",
            "************************\n",
            "*************************\n",
            "**************************\n",
            "***************************\n",
            "****************************\n",
            "*****************************\n",
            "******************************\n",
            "*******************************\n",
            "********************************\n",
            "*********************************\n",
            "**********************************\n",
            "***********************************\n",
            "************************************\n",
            "*************************************\n",
            "**************************************\n",
            "***************************************\n",
            "****************************************\n",
            "*****************************************\n",
            "******************************************\n",
            "*******************************************\n",
            "********************************************\n",
            "*********************************************\n",
            "**********************************************\n",
            "***********************************************\n",
            "************************************************\n",
            "*************************************************\n",
            "**************************************************\n"
          ],
          "name": "stdout"
        }
      ]
    },
    {
      "metadata": {
        "id": "d74EI3rNKsvV",
        "colab_type": "text"
      },
      "cell_type": "markdown",
      "source": [
        "### Exercise 6\n",
        "Write a function for the summation operator $\\sum$ (without using the built-in sum())."
      ]
    },
    {
      "metadata": {
        "id": "Y_KcuzCoM3WS",
        "colab_type": "code",
        "colab": {
          "base_uri": "https://localhost:8080/",
          "height": 34
        },
        "outputId": "6978c563-5152-4ecc-df67-78f3c6c70e8e"
      },
      "cell_type": "code",
      "source": [
        "def summation(arr):\n",
        "    tot = 0\n",
        "    for a in arr:\n",
        "        tot = tot + a\n",
        "    return tot\n",
        "\n",
        "print(summation([1, 2, 3, 4]))"
      ],
      "execution_count": 52,
      "outputs": [
        {
          "output_type": "stream",
          "text": [
            "10\n"
          ],
          "name": "stdout"
        }
      ]
    },
    {
      "metadata": {
        "id": "r5ig10xqNvO_",
        "colab_type": "text"
      },
      "cell_type": "markdown",
      "source": [
        "### Exercise 7\n",
        "Write a function that returns the diagonal of a square matrix.\n"
      ]
    },
    {
      "metadata": {
        "id": "Xc5S-Eu8N_F7",
        "colab_type": "code",
        "colab": {
          "base_uri": "https://localhost:8080/",
          "height": 34
        },
        "outputId": "ab1f68ce-adc5-4ca7-aedb-dc792e7cd22b"
      },
      "cell_type": "code",
      "source": [
        "def diag(matrix):\n",
        "    d = []\n",
        "    for i in range(len(matrix)):\n",
        "        d.append(matrix[i][i])\n",
        "    return d\n",
        "\n",
        "m = [[1, 2, 3],\n",
        "     [4, 5, 6],\n",
        "     [7, 8, 9]]\n",
        "print(diag(m))"
      ],
      "execution_count": 53,
      "outputs": [
        {
          "output_type": "stream",
          "text": [
            "[1, 5, 9]\n"
          ],
          "name": "stdout"
        }
      ]
    },
    {
      "metadata": {
        "id": "bkrYdZFpI4S4",
        "colab_type": "text"
      },
      "cell_type": "markdown",
      "source": [
        "### More flow control exercises\n",
        "1. Write a function that will calculate the *n*-th value of the Fibonacci sequence. <br>\n",
        "1 1 2 3 5 8...\n",
        "1. Write a function that returns a list containing the *n*-th row of Pascal's triangle. <br>\n",
        "[1], [1, 1], [1, 2, 1], [1, 3, 3, 1], ..."
      ]
    },
    {
      "metadata": {
        "id": "U_GwPayPvoaU",
        "colab_type": "code",
        "colab": {
          "base_uri": "https://localhost:8080/",
          "height": 168
        },
        "outputId": "8017ddd1-9620-41f0-e8c2-a4bb2ef354fd"
      },
      "cell_type": "code",
      "source": [
        "def fib(n):\n",
        "    a = 1\n",
        "    b = 1\n",
        "    for i in range(n-2):\n",
        "        c = a + b\n",
        "        a = b\n",
        "        b = c\n",
        "\n",
        "    return b\n",
        "\n",
        "for n in range(1,10):\n",
        "    print(fib(n))"
      ],
      "execution_count": 54,
      "outputs": [
        {
          "output_type": "stream",
          "text": [
            "1\n",
            "1\n",
            "2\n",
            "3\n",
            "5\n",
            "8\n",
            "13\n",
            "21\n",
            "34\n"
          ],
          "name": "stdout"
        }
      ]
    },
    {
      "metadata": {
        "id": "9eMgZfcPxA5i",
        "colab_type": "code",
        "colab": {
          "base_uri": "https://localhost:8080/",
          "height": 168
        },
        "outputId": "72496965-e2b1-4086-bd10-bcd26e752c26"
      },
      "cell_type": "code",
      "source": [
        "def pascal(n):\n",
        "    if n == 0:\n",
        "        return []\n",
        "    elif n == 1:\n",
        "        return [1]\n",
        "  \n",
        "    row = [1, 1]\n",
        "    i = 2\n",
        "    while i < n:\n",
        "        next_row = [1]\n",
        "    for j in range(1, len(row)):\n",
        "        next_row.append(row[j-1]+row[j])\n",
        "        next_row.append(1)\n",
        "        row = next_row.copy()\n",
        "        i = i+1\n",
        "    return row\n",
        "\n",
        "for n in range(1,10):\n",
        "    print(pascal(n))"
      ],
      "execution_count": 55,
      "outputs": [
        {
          "output_type": "stream",
          "text": [
            "[1]\n",
            "[1, 1]\n",
            "[1, 2, 1]\n",
            "[1, 3, 3, 1]\n",
            "[1, 4, 6, 4, 1]\n",
            "[1, 5, 10, 10, 5, 1]\n",
            "[1, 6, 15, 20, 15, 6, 1]\n",
            "[1, 7, 21, 35, 35, 21, 7, 1]\n",
            "[1, 8, 28, 56, 70, 56, 28, 8, 1]\n"
          ],
          "name": "stdout"
        }
      ]
    },
    {
      "metadata": {
        "id": "uNBsmmtem2y9",
        "colab_type": "text"
      },
      "cell_type": "markdown",
      "source": [
        "**Classic Challenge** : Fizz Buzz\n",
        "\n",
        "Given a list of integers from 1 to 100. \n",
        "- Print \"Fizz\" if the integer is divisible by 3.\n",
        "    - i.e. 3, 6, 9\n",
        "- Print \"Buzz\" if the integer is divisible by 5. \n",
        "    - i.e. 5, 10, 15\n",
        "- Print \"FizzBuzz\" if the integer is divisible by 3 AND 5.\n",
        "    - i.e. 15, 30,  45\n",
        "    \n",
        "Challenge: Do it in as few lines as possible!"
      ]
    },
    {
      "metadata": {
        "id": "MkcMgjBwm-uP",
        "colab_type": "code",
        "colab": {}
      },
      "cell_type": "code",
      "source": [
        "## -- One way of doing it\n",
        "for i in range(1, 101):\n",
        "    if i % 3 == 0:\n",
        "        print(i, \"Fizz\")\n",
        "    elif i % 5 == 0:\n",
        "        print(i, \"Buzz\")\n",
        "    elif i % 3 == 0 and i % 5 ==0:\n",
        "        print(i, \"FizzBuzz\")\n",
        "    else:\n",
        "        print(i)"
      ],
      "execution_count": 0,
      "outputs": []
    },
    {
      "metadata": {
        "id": "HyAbY1jwx1qD",
        "colab_type": "code",
        "colab": {}
      },
      "cell_type": "code",
      "source": [
        "## -- My solution hehe\n",
        "for i in range(1, 101) : print(i , \"Fizz\" * (i % 3 == 0) + \"Buzz\" * (i % 5 == 0))"
      ],
      "execution_count": 0,
      "outputs": []
    },
    {
      "metadata": {
        "id": "UxZ6lNZWt9ZW",
        "colab_type": "text"
      },
      "cell_type": "markdown",
      "source": [
        "**I can do it in one line - technically 2 - who can match me!?**"
      ]
    },
    {
      "metadata": {
        "id": "EMPSOCr5RPF9",
        "colab_type": "text"
      },
      "cell_type": "markdown",
      "source": [
        "### Modules\n",
        "1. Concept: code stored in some other file\n",
        "1. Importing\n",
        "1. Accessing module properties and functions"
      ]
    },
    {
      "metadata": {
        "id": "IuIV-xV8Rc05",
        "colab_type": "code",
        "colab": {
          "base_uri": "https://localhost:8080/",
          "height": 34
        },
        "outputId": "fe6333c8-c48d-4557-9f94-3e46bb7dd72a"
      },
      "cell_type": "code",
      "source": [
        "%%writefile phys_stuff.py\n",
        "\n",
        "pi = 3.1415926536\n",
        "c = 299792458\n",
        "\n",
        "def distance(x1, y1, x2=0, y2=0):\n",
        "    return ((x1-x2)**2 + (y1-y2)**2)**0.5"
      ],
      "execution_count": 56,
      "outputs": [
        {
          "output_type": "stream",
          "text": [
            "Overwriting phys_stuff.py\n"
          ],
          "name": "stdout"
        }
      ]
    },
    {
      "metadata": {
        "id": "wy702kdDRkjg",
        "colab_type": "code",
        "colab": {
          "base_uri": "https://localhost:8080/",
          "height": 286
        },
        "outputId": "c31059c5-04ae-402d-c40f-fb0f94e8fa2c"
      },
      "cell_type": "code",
      "source": [
        "import phys_stuff as p\n",
        "help(p)"
      ],
      "execution_count": 57,
      "outputs": [
        {
          "output_type": "stream",
          "text": [
            "Help on module phys_stuff:\n",
            "\n",
            "NAME\n",
            "    phys_stuff\n",
            "\n",
            "FUNCTIONS\n",
            "    distance(x1, y1, x2=0, y2=0)\n",
            "\n",
            "DATA\n",
            "    c = 299792458\n",
            "    pi = 3.1415926536\n",
            "\n",
            "FILE\n",
            "    /content/phys_stuff.py\n",
            "\n",
            "\n"
          ],
          "name": "stdout"
        }
      ]
    },
    {
      "metadata": {
        "id": "6sA0Gt5SsYjk",
        "colab_type": "code",
        "colab": {
          "base_uri": "https://localhost:8080/",
          "height": 50
        },
        "outputId": "18c84bbc-a454-4665-8c4c-502a7b7305d9"
      },
      "cell_type": "code",
      "source": [
        "print(p.c)\n",
        "print(p.distance(3, 4))"
      ],
      "execution_count": 58,
      "outputs": [
        {
          "output_type": "stream",
          "text": [
            "299792458\n",
            "5.0\n"
          ],
          "name": "stdout"
        }
      ]
    },
    {
      "metadata": {
        "id": "5riN2WMbkUQ0",
        "colab_type": "text"
      },
      "cell_type": "markdown",
      "source": [
        "### User Input"
      ]
    },
    {
      "metadata": {
        "id": "045wI6-XkUQy",
        "colab_type": "code",
        "colab": {
          "base_uri": "https://localhost:8080/",
          "height": 50
        },
        "outputId": "4843ed22-0881-403b-e47a-84289f4a9882"
      },
      "cell_type": "code",
      "source": [
        "response = input(\"What do you want? \")\n",
        "print(\"You can't handle {}\".format(response))"
      ],
      "execution_count": 59,
      "outputs": [
        {
          "output_type": "stream",
          "text": [
            "What do you want? the truth!\n",
            "You can't handle the truth!\n"
          ],
          "name": "stdout"
        }
      ]
    },
    {
      "metadata": {
        "id": "5_t6dkvVkUQv",
        "colab_type": "code",
        "colab": {
          "base_uri": "https://localhost:8080/",
          "height": 50
        },
        "outputId": "49c45ca3-0d31-4083-d97c-153b5edba1dc"
      },
      "cell_type": "code",
      "source": [
        "x = input(\"Enter x: \")\n",
        "y = input(\"Enter y: \")"
      ],
      "execution_count": 60,
      "outputs": [
        {
          "output_type": "stream",
          "text": [
            "Enter x: 15\n",
            "Enter y: 20\n"
          ],
          "name": "stdout"
        }
      ]
    },
    {
      "metadata": {
        "id": "EaNpO1vokUQl",
        "colab_type": "code",
        "colab": {
          "base_uri": "https://localhost:8080/",
          "height": 50
        },
        "outputId": "bfdeb881-53a0-47e2-f860-123126d1a812"
      },
      "cell_type": "code",
      "source": [
        "print(type(x))\n",
        "print(type(y))"
      ],
      "execution_count": 61,
      "outputs": [
        {
          "output_type": "stream",
          "text": [
            "<class 'str'>\n",
            "<class 'str'>\n"
          ],
          "name": "stdout"
        }
      ]
    },
    {
      "metadata": {
        "id": "5O999HPPkUQf",
        "colab_type": "code",
        "colab": {
          "base_uri": "https://localhost:8080/",
          "height": 34
        },
        "outputId": "cc8974de-a44a-4190-acff-f97d7b10d046"
      },
      "cell_type": "code",
      "source": [
        "z = float(x) + float(y)\n",
        "print(\"{} + {} = {}\".format(x,y,z))"
      ],
      "execution_count": 62,
      "outputs": [
        {
          "output_type": "stream",
          "text": [
            "15 + 20 = 35.0\n"
          ],
          "name": "stdout"
        }
      ]
    },
    {
      "metadata": {
        "id": "879UwXwBkcal",
        "colab_type": "text"
      },
      "cell_type": "markdown",
      "source": [
        "### File I/O"
      ]
    },
    {
      "metadata": {
        "id": "244uI2R6kn0r",
        "colab_type": "code",
        "colab": {
          "base_uri": "https://localhost:8080/",
          "height": 202
        },
        "outputId": "51558af1-57f7-4f89-9739-08e4ff43fc22"
      },
      "cell_type": "code",
      "source": [
        "with open('phys_stuff.py') as f:\n",
        "    counter = 0\n",
        "    for line in f:\n",
        "        print(counter, \":\", line)\n",
        "        counter = counter + 1"
      ],
      "execution_count": 63,
      "outputs": [
        {
          "output_type": "stream",
          "text": [
            "0 : \n",
            "\n",
            "1 : pi = 3.1415926536\n",
            "\n",
            "2 : c = 299792458\n",
            "\n",
            "3 : \n",
            "\n",
            "4 : def distance(x1, y1, x2=0, y2=0):\n",
            "\n",
            "5 :   return ((x1-x2)**2 + (y1-y2)**2)**0.5\n"
          ],
          "name": "stdout"
        }
      ]
    },
    {
      "metadata": {
        "id": "QDzs64mTuCi6",
        "colab_type": "code",
        "colab": {
          "base_uri": "https://localhost:8080/",
          "height": 34
        },
        "outputId": "b8323233-35a4-4358-dbcf-a52e0e540b3d"
      },
      "cell_type": "code",
      "source": [
        "print(myList)\n",
        "\n",
        "with open('data.txt', 'w') as f:\n",
        "    for item in myList:\n",
        "        print(item, file=f)"
      ],
      "execution_count": 64,
      "outputs": [
        {
          "output_type": "stream",
          "text": [
            "['apple', 'shark', 'castle', 'ballistic missile', 'apple', 'shark', 'castle', 'ballistic missile', 'cat']\n"
          ],
          "name": "stdout"
        }
      ]
    },
    {
      "metadata": {
        "id": "nrRMni2PvbQ5",
        "colab_type": "code",
        "colab": {
          "base_uri": "https://localhost:8080/",
          "height": 34
        },
        "outputId": "c033f96f-bccb-4b67-854c-d9713544847d"
      },
      "cell_type": "code",
      "source": [
        "!ls"
      ],
      "execution_count": 65,
      "outputs": [
        {
          "output_type": "stream",
          "text": [
            "data.txt  phys_stuff.py  phys_stuff.pyc  __pycache__  sample_data\n"
          ],
          "name": "stdout"
        }
      ]
    },
    {
      "metadata": {
        "id": "kEp1BYKNvuUH",
        "colab_type": "code",
        "colab": {
          "base_uri": "https://localhost:8080/",
          "height": 168
        },
        "outputId": "e1c28b0c-70fc-4152-93b9-164853193cd2"
      },
      "cell_type": "code",
      "source": [
        "!cat data.txt"
      ],
      "execution_count": 66,
      "outputs": [
        {
          "output_type": "stream",
          "text": [
            "apple\n",
            "shark\n",
            "castle\n",
            "ballistic missile\n",
            "apple\n",
            "shark\n",
            "castle\n",
            "ballistic missile\n",
            "cat\n"
          ],
          "name": "stdout"
        }
      ]
    },
    {
      "metadata": {
        "id": "e9mzh724WlT9",
        "colab_type": "text"
      },
      "cell_type": "markdown",
      "source": [
        "### Comments and Documentation\n",
        "1. \\#\n",
        "1. Triple quotes"
      ]
    },
    {
      "metadata": {
        "id": "gYhugeGAghtI",
        "colab_type": "code",
        "colab": {
          "base_uri": "https://localhost:8080/",
          "height": 34
        },
        "outputId": "95d1b354-fa20-45c3-eda2-e1dc8908419a"
      },
      "cell_type": "code",
      "source": [
        "# Python ignores lines that start with \"#\"\n",
        "# print(\"why doesn't this print :(\")\n",
        "print(\"oh, right, the # thingy\")"
      ],
      "execution_count": 67,
      "outputs": [
        {
          "output_type": "stream",
          "text": [
            "oh, right, the # thingy\n"
          ],
          "name": "stdout"
        }
      ]
    },
    {
      "metadata": {
        "id": "nWZ92ROVW-BS",
        "colab_type": "code",
        "colab": {}
      },
      "cell_type": "code",
      "source": [
        "def make_sandwich():\n",
        "  \"\"\"An example function for SPS-Manoa Problem-Solving with Python.\"\"\"\n",
        "  print(\"You haven't taught me how to make a sandwich yet... :(\")"
      ],
      "execution_count": 0,
      "outputs": []
    },
    {
      "metadata": {
        "id": "NyMbX1RwYiQt",
        "colab_type": "code",
        "colab": {
          "base_uri": "https://localhost:8080/",
          "height": 101
        },
        "outputId": "7d8dd022-a479-4368-de14-2a7d53aca922"
      },
      "cell_type": "code",
      "source": [
        "help(make_sandwich)"
      ],
      "execution_count": 69,
      "outputs": [
        {
          "output_type": "stream",
          "text": [
            "Help on function make_sandwich in module __main__:\n",
            "\n",
            "make_sandwich()\n",
            "    An example function for SPS-Manoa Problem-Solving with Python.\n",
            "\n"
          ],
          "name": "stdout"
        }
      ]
    },
    {
      "metadata": {
        "id": "2evFYoauMbmn",
        "colab_type": "text"
      },
      "cell_type": "markdown",
      "source": [
        "### Additional Resources\n",
        "1. https://docs.python.org/3/\n",
        "1. https://automatetheboringstuff.com/"
      ]
    }
  ]
}